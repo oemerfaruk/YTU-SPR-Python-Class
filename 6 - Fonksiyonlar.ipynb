{
 "cells": [
  {
   "cell_type": "markdown",
   "id": "dfa96cb6",
   "metadata": {},
   "source": [
    "# Fonksiyonlar"
   ]
  },
  {
   "cell_type": "code",
   "execution_count": 1,
   "id": "f1692245",
   "metadata": {},
   "outputs": [],
   "source": [
    "def merhaba():\n",
    "    for i in range(5):\n",
    "        print(\"Merhaba Dünya!\")"
   ]
  },
  {
   "cell_type": "code",
   "execution_count": 2,
   "id": "62c7489f",
   "metadata": {},
   "outputs": [
    {
     "name": "stdout",
     "output_type": "stream",
     "text": [
      "Merhaba Dünya!\n",
      "Merhaba Dünya!\n",
      "Merhaba Dünya!\n",
      "Merhaba Dünya!\n",
      "Merhaba Dünya!\n"
     ]
    }
   ],
   "source": [
    "merhaba()"
   ]
  },
  {
   "cell_type": "markdown",
   "id": "f6cd8bbd",
   "metadata": {},
   "source": [
    "## Fonksiyonlara argüman göndermek"
   ]
  },
  {
   "cell_type": "code",
   "execution_count": 3,
   "id": "e85389e5",
   "metadata": {},
   "outputs": [],
   "source": [
    "def selamla(isim):\n",
    "    print(\"Merhaba {0}\".format(isim))"
   ]
  },
  {
   "cell_type": "code",
   "execution_count": 4,
   "id": "57300049",
   "metadata": {},
   "outputs": [
    {
     "name": "stdout",
     "output_type": "stream",
     "text": [
      "Merhaba Ömer\n"
     ]
    }
   ],
   "source": [
    "selamla(\"Ömer\")"
   ]
  },
  {
   "cell_type": "markdown",
   "id": "e034f451",
   "metadata": {},
   "source": [
    "### Varsayılan Argüman"
   ]
  },
  {
   "cell_type": "code",
   "execution_count": 5,
   "id": "0f8d9336",
   "metadata": {},
   "outputs": [],
   "source": [
    "def selamla(isim = \"Ömer Faruk\"):\n",
    "    print(\"Merhaba {0}\".format(isim))"
   ]
  },
  {
   "cell_type": "code",
   "execution_count": 6,
   "id": "22d4f3da",
   "metadata": {},
   "outputs": [
    {
     "name": "stdout",
     "output_type": "stream",
     "text": [
      "Merhaba Onur\n"
     ]
    }
   ],
   "source": [
    "selamla(\"Onur\")"
   ]
  },
  {
   "cell_type": "markdown",
   "id": "c57f9ed9",
   "metadata": {},
   "source": [
    "## Fonksiyonlardan Bİlgi Döndürmek"
   ]
  },
  {
   "cell_type": "code",
   "execution_count": 7,
   "id": "132f25b4",
   "metadata": {},
   "outputs": [],
   "source": [
    "def toplama(sayi1,sayi2):\n",
    "    sonuc = sayi1 + sayi2\n",
    "    \n",
    "    if sonuc < 10: return sonuc\n",
    "\n",
    "    print(\"aaaaaaaaa\")"
   ]
  },
  {
   "cell_type": "code",
   "execution_count": 8,
   "id": "12f043b9",
   "metadata": {
    "scrolled": true
   },
   "outputs": [
    {
     "name": "stdout",
     "output_type": "stream",
     "text": [
      "aaaaaaaaa\n"
     ]
    }
   ],
   "source": [
    "toplama(10,5)"
   ]
  },
  {
   "cell_type": "markdown",
   "id": "656e2437",
   "metadata": {},
   "source": [
    "## \\*ARGS"
   ]
  },
  {
   "cell_type": "code",
   "execution_count": 9,
   "id": "61c75a98",
   "metadata": {},
   "outputs": [],
   "source": [
    "def hesapla(*sayi):\n",
    "    return sum(sayi)"
   ]
  },
  {
   "cell_type": "code",
   "execution_count": 10,
   "id": "6e0fc1fc",
   "metadata": {
    "scrolled": true
   },
   "outputs": [
    {
     "data": {
      "text/plain": [
       "89"
      ]
     },
     "execution_count": 10,
     "metadata": {},
     "output_type": "execute_result"
    }
   ],
   "source": [
    "hesapla(1,3,10,25,50)"
   ]
  },
  {
   "cell_type": "code",
   "execution_count": 11,
   "id": "5bb0d2b1",
   "metadata": {},
   "outputs": [],
   "source": [
    "def bilgiGoster(sayi = 0,*isim):\n",
    "    for i in isim:\n",
    "        print(i)\n",
    "    print(sayi)"
   ]
  },
  {
   "cell_type": "code",
   "execution_count": 12,
   "id": "2e39a64f",
   "metadata": {
    "scrolled": true
   },
   "outputs": [
    {
     "name": "stdout",
     "output_type": "stream",
     "text": [
      "Ömer\n",
      "Faruk\n",
      "150\n"
     ]
    }
   ],
   "source": [
    "bilgiGoster(150,\"Ömer\",\"Faruk\")"
   ]
  },
  {
   "cell_type": "markdown",
   "id": "a6f7faa9",
   "metadata": {},
   "source": [
    "## \\*\\*KWARGS"
   ]
  },
  {
   "cell_type": "code",
   "execution_count": 13,
   "id": "356cc8ff",
   "metadata": {},
   "outputs": [],
   "source": [
    "def fonksiyon(**arguman):\n",
    "    print(arguman)"
   ]
  },
  {
   "cell_type": "code",
   "execution_count": 14,
   "id": "169ec001",
   "metadata": {},
   "outputs": [
    {
     "name": "stdout",
     "output_type": "stream",
     "text": [
      "{'sayi1': 0, 'sayi2': 10, 'sayi3': 25}\n"
     ]
    }
   ],
   "source": [
    "fonksiyon(sayi1=0,sayi2=10,sayi3=25)"
   ]
  },
  {
   "cell_type": "markdown",
   "id": "a83d1479",
   "metadata": {},
   "source": [
    "#### ARGS ve KWARGS Birlikte kullanımı"
   ]
  },
  {
   "cell_type": "code",
   "execution_count": 15,
   "id": "0a5e9ab8",
   "metadata": {},
   "outputs": [],
   "source": [
    "def islem(*sayi,**arguman):\n",
    "    print(sayi,arguman)\n",
    "    print(type(sayi),type(arguman))"
   ]
  },
  {
   "cell_type": "code",
   "execution_count": 16,
   "id": "1523632a",
   "metadata": {},
   "outputs": [
    {
     "name": "stdout",
     "output_type": "stream",
     "text": [
      "(3, 4, 5) {'isim': 'Ömer Faruk', 'soyisim': 'Aydın'}\n",
      "<class 'tuple'> <class 'dict'>\n"
     ]
    }
   ],
   "source": [
    "islem(3,4,5, isim = \"Ömer Faruk\",soyisim = \"Aydın\")"
   ]
  },
  {
   "cell_type": "markdown",
   "id": "b7760e16",
   "metadata": {},
   "source": [
    " ## Kendini Çağıran Fonksiyonlar\n",
    " \n",
    " **Recursion Function**"
   ]
  },
  {
   "cell_type": "code",
   "execution_count": 17,
   "id": "0a765635",
   "metadata": {},
   "outputs": [],
   "source": [
    "def tri_recursion(k):\n",
    "    if k > 0:\n",
    "        result = k + tri_recursion(k - 1)\n",
    "        print(result)\n",
    "    else:\n",
    "        result = 0\n",
    "    \n",
    "    return result"
   ]
  },
  {
   "cell_type": "code",
   "execution_count": 18,
   "id": "27e796e3",
   "metadata": {},
   "outputs": [
    {
     "name": "stdout",
     "output_type": "stream",
     "text": [
      "1\n",
      "3\n",
      "6\n",
      "10\n",
      "15\n",
      "21\n"
     ]
    },
    {
     "data": {
      "text/plain": [
       "21"
      ]
     },
     "execution_count": 18,
     "metadata": {},
     "output_type": "execute_result"
    }
   ],
   "source": [
    "tri_recursion(6)"
   ]
  },
  {
   "cell_type": "code",
   "execution_count": null,
   "id": "3587552b",
   "metadata": {},
   "outputs": [],
   "source": []
  }
 ],
 "metadata": {
  "kernelspec": {
   "display_name": "Python 3 (ipykernel)",
   "language": "python",
   "name": "python3"
  },
  "language_info": {
   "codemirror_mode": {
    "name": "ipython",
    "version": 3
   },
   "file_extension": ".py",
   "mimetype": "text/x-python",
   "name": "python",
   "nbconvert_exporter": "python",
   "pygments_lexer": "ipython3",
   "version": "3.10.9"
  }
 },
 "nbformat": 4,
 "nbformat_minor": 5
}
