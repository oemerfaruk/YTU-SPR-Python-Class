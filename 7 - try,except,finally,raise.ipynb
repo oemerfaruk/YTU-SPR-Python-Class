{
 "cells": [
  {
   "cell_type": "markdown",
   "id": "9e0dd7a5",
   "metadata": {},
   "source": [
    "# try, except, finally, raise"
   ]
  },
  {
   "cell_type": "markdown",
   "id": "fdeeac0f",
   "metadata": {},
   "source": [
    "**try:** ifadesinin altına yazılan blok içerisinde hata varsa **except** ifadesine geçilir.\n",
    "\n",
    "**except:** ifadesi hatalara göre özelleştirilebilir.\n",
    "\n",
    "**finally:** ifadesinde yazılan blok ise **try** ve **except** bloklarından sonra mutlaka çalışır.\n",
    "\n",
    "**raise:** ifadesi ise kendi özel hatalarınızı oluşturmak için kullanılır"
   ]
  },
  {
   "cell_type": "code",
   "execution_count": 1,
   "id": "5ee34acd",
   "metadata": {},
   "outputs": [
    {
     "name": "stdout",
     "output_type": "stream",
     "text": [
      "Merhaba Dünya!\n",
      "8\n",
      "'<' not supported between instances of 'str' and 'int'\n",
      "finally bloğu çalıştı\n"
     ]
    }
   ],
   "source": [
    "def toplama(a,b):\n",
    "    if a < 0 or b < 0:\n",
    "        raise Exception(\"Sayı sıfırdan küçük olmamalı\")\n",
    "    return a + b\n",
    "\n",
    "\n",
    "try:\n",
    "    print(\"Merhaba Dünya!\")\n",
    "\n",
    "    print(toplama(3,5)) # hatasız kullanım\n",
    "    toplama(\"merhaba\",5) # doğrudan Exception bloğuna giderek hatayı gösterir\n",
    "    toplama(-1, 5) # Sayı sıfırdan küçük hatası\n",
    "    toplama(a) # name error\n",
    "\n",
    "\n",
    "except NameError as e:\n",
    "    print(\"Hata: Geçersiz değişken girişi:\", e)\n",
    "\n",
    "except Exception as e:\n",
    "    print(e)\n",
    "\n",
    "    \n",
    "finally:\n",
    "    print(\"finally bloğu çalıştı\")"
   ]
  }
 ],
 "metadata": {
  "kernelspec": {
   "display_name": "Python 3 (ipykernel)",
   "language": "python",
   "name": "python3"
  },
  "language_info": {
   "codemirror_mode": {
    "name": "ipython",
    "version": 3
   },
   "file_extension": ".py",
   "mimetype": "text/x-python",
   "name": "python",
   "nbconvert_exporter": "python",
   "pygments_lexer": "ipython3",
   "version": "3.10.9"
  }
 },
 "nbformat": 4,
 "nbformat_minor": 5
}
