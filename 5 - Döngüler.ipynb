{
 "cells": [
  {
   "cell_type": "markdown",
   "id": "b19e5677",
   "metadata": {},
   "source": [
    "# Döngüler\n",
    "\n",
    "Bu derste **for** ve **while** döngülerini öğrenerek programalamanın en temel konularında ilerliyor olacağız.\n",
    "\n",
    "### *Pratik yapacağımız ve yeni öğreneceğimiz ek bilgiler*\n",
    "+ *Sözlük ve liste kullanımı*\n",
    "+ *Break ve Continue İfadeleri*\n",
    "+ *Input Fonksiyonu*\n",
    "+ *Range Fonksiyonu*\n"
   ]
  },
  {
   "cell_type": "markdown",
   "id": "f004f76c",
   "metadata": {},
   "source": [
    "## While Döngüsü\n",
    "\n",
    "**While** Döngüsünde koşul sağlandığı sürece blok çalışır. Sonsuz döngü mümkün olduğu için gekli şartlara dikkat edilmeli."
   ]
  },
  {
   "cell_type": "code",
   "execution_count": 1,
   "id": "7432cacf",
   "metadata": {},
   "outputs": [],
   "source": [
    "semester = 1"
   ]
  },
  {
   "cell_type": "code",
   "execution_count": 2,
   "id": "b95cdffd",
   "metadata": {},
   "outputs": [
    {
     "name": "stdout",
     "output_type": "stream",
     "text": [
      "Öğrencinin aktifliği devam etmektedir\n",
      "1\n",
      "Öğrencinin aktifliği devam etmektedir\n",
      "2\n",
      "Öğrencinin aktifliği devam etmektedir\n",
      "3\n",
      "Öğrencinin aktifliği devam etmektedir\n",
      "4\n",
      "Öğrencinin aktifliği devam etmektedir\n",
      "5\n",
      "Öğrencinin aktifliği devam etmektedir\n",
      "6\n",
      "Öğrencinin aktifliği devam etmektedir\n",
      "7\n",
      "Öğrencinin aktifliği devam etmektedir\n",
      "8\n",
      "Öğrencinin aktifliği devam etmektedir\n",
      "9\n",
      "Öğrencinin aktifliği devam etmektedir\n",
      "10\n",
      "Öğrencinin aktifliği devam etmektedir\n",
      "11\n",
      "Öğrencinin aktifliği devam etmektedir\n",
      "12\n",
      "Öğrencinin aktifliği devam etmektedir\n",
      "13\n",
      "Öğrencinin aktifliği devam etmektedir\n",
      "14\n",
      "while bitti ------ Öğrenci atıldı\n",
      "15\n"
     ]
    }
   ],
   "source": [
    "while semester < 15:\n",
    "    print(\"Öğrencinin aktifliği devam etmektedir\")\n",
    "    print(semester)\n",
    "    semester = semester + 1\n",
    "\n",
    "print(\"while bitti ------ Öğrenci atıldı\")\n",
    "print(semester)"
   ]
  },
  {
   "cell_type": "markdown",
   "id": "6dc04d71",
   "metadata": {},
   "source": [
    "## For Döngüsü\n",
    "**For** dögüsünde koşul kısmına içinde dönülebilecek bir yapı yazılmalıdır. Örneğin, iterable nesneler kullanılabilir. Iterable nesnelere örnek olarak: listeler, sözlükler, stringler, ...."
   ]
  },
  {
   "cell_type": "code",
   "execution_count": 3,
   "id": "4fc0f5f6",
   "metadata": {},
   "outputs": [],
   "source": [
    "numbers = [0,1,2,3,4,5]\n",
    "newNumbers = list() # newNumbers = []\n",
    "isimler = [\"Ömer\",\"Onur\",\"Meltem\",\"Hasan\",\"Melike\",\"Zehra\",\"Yasmina\",\"Eslem\"]\n",
    "num = {\"a\":1,\"b\":2,\"c\":3}\n",
    "metin = \"Hello World!\"\n",
    "\n",
    "a = 0"
   ]
  },
  {
   "cell_type": "code",
   "execution_count": 4,
   "id": "8fdccd6f",
   "metadata": {},
   "outputs": [
    {
     "name": "stdout",
     "output_type": "stream",
     "text": [
      "0 \t 0\n",
      "1 \t 1\n",
      "2 \t 4\n",
      "3 \t 9\n",
      "4 \t 16\n",
      "5 \t 25\n",
      "For bloğu bitti\n"
     ]
    }
   ],
   "source": [
    "for i in numbers:\n",
    "    newNumbers.append(pow(i,2))\n",
    "    print(i , \"\\t\" , pow(i,2))\n",
    "print(\"For bloğu bitti\")"
   ]
  },
  {
   "cell_type": "code",
   "execution_count": 5,
   "id": "8144f1d1",
   "metadata": {},
   "outputs": [
    {
     "data": {
      "text/plain": [
       "[0, 1, 4, 9, 16, 25]"
      ]
     },
     "execution_count": 5,
     "metadata": {},
     "output_type": "execute_result"
    }
   ],
   "source": [
    "newNumbers"
   ]
  },
  {
   "cell_type": "code",
   "execution_count": 6,
   "id": "c663d66e",
   "metadata": {},
   "outputs": [],
   "source": [
    "newNumbers.append(pow(numbers[4],2))"
   ]
  },
  {
   "cell_type": "code",
   "execution_count": 7,
   "id": "f93904f1",
   "metadata": {},
   "outputs": [
    {
     "data": {
      "text/plain": [
       "16"
      ]
     },
     "execution_count": 7,
     "metadata": {},
     "output_type": "execute_result"
    }
   ],
   "source": [
    "newNumbers.pop()"
   ]
  },
  {
   "cell_type": "code",
   "execution_count": 8,
   "id": "25b37e39",
   "metadata": {},
   "outputs": [
    {
     "data": {
      "text/plain": [
       "[0, 1, 4, 9, 16, 25]"
      ]
     },
     "execution_count": 8,
     "metadata": {},
     "output_type": "execute_result"
    }
   ],
   "source": [
    "newNumbers"
   ]
  },
  {
   "cell_type": "code",
   "execution_count": 9,
   "id": "b4c99415",
   "metadata": {},
   "outputs": [
    {
     "data": {
      "text/plain": [
       "25"
      ]
     },
     "execution_count": 9,
     "metadata": {},
     "output_type": "execute_result"
    }
   ],
   "source": [
    "newNumbers.pop(-1)"
   ]
  },
  {
   "cell_type": "code",
   "execution_count": 10,
   "id": "9f10ebbe",
   "metadata": {},
   "outputs": [
    {
     "data": {
      "text/plain": [
       "4"
      ]
     },
     "execution_count": 10,
     "metadata": {},
     "output_type": "execute_result"
    }
   ],
   "source": [
    "newNumbers.pop(-3)"
   ]
  },
  {
   "cell_type": "code",
   "execution_count": 11,
   "id": "63d3a3d1",
   "metadata": {},
   "outputs": [
    {
     "data": {
      "text/plain": [
       "'Hello World!'"
      ]
     },
     "execution_count": 11,
     "metadata": {},
     "output_type": "execute_result"
    }
   ],
   "source": [
    "metin"
   ]
  },
  {
   "cell_type": "code",
   "execution_count": 12,
   "id": "3582cfe3",
   "metadata": {},
   "outputs": [
    {
     "name": "stdout",
     "output_type": "stream",
     "text": [
      "H\n",
      "e\n",
      "l\n",
      "l\n",
      "o\n",
      " \n",
      "W\n",
      "o\n",
      "r\n",
      "l\n",
      "d\n",
      "!\n"
     ]
    }
   ],
   "source": [
    "for i in metin:\n",
    "    print(i)"
   ]
  },
  {
   "cell_type": "code",
   "execution_count": 13,
   "id": "358209de",
   "metadata": {},
   "outputs": [
    {
     "name": "stdout",
     "output_type": "stream",
     "text": [
      "Merhaba Ömer\n",
      "Merhaba Onur\n",
      "Merhaba Meltem\n",
      "Merhaba Hasan\n",
      "Merhaba Melike\n",
      "Merhaba Zehra\n",
      "Merhaba Yasmina\n",
      "Merhaba Eslem\n"
     ]
    }
   ],
   "source": [
    "for isim in isimler:\n",
    "    print(\"Merhaba {0}\".format(isim))"
   ]
  },
  {
   "cell_type": "code",
   "execution_count": 14,
   "id": "57b6f55c",
   "metadata": {},
   "outputs": [
    {
     "name": "stdout",
     "output_type": "stream",
     "text": [
      "a : 1\n",
      "b : 2\n",
      "c : 3\n"
     ]
    }
   ],
   "source": [
    "for key,value in num.items():\n",
    "    print(key,\":\",value)"
   ]
  },
  {
   "cell_type": "code",
   "execution_count": 15,
   "id": "a26d3e0f",
   "metadata": {},
   "outputs": [
    {
     "name": "stdout",
     "output_type": "stream",
     "text": [
      "Bir sayı giriniz: 5\n"
     ]
    }
   ],
   "source": [
    "a = int(input(\"Bir sayı giriniz: \"))"
   ]
  },
  {
   "cell_type": "code",
   "execution_count": 16,
   "id": "68166fdd",
   "metadata": {},
   "outputs": [
    {
     "data": {
      "text/plain": [
       "5"
      ]
     },
     "execution_count": 16,
     "metadata": {},
     "output_type": "execute_result"
    }
   ],
   "source": [
    "a"
   ]
  },
  {
   "cell_type": "code",
   "execution_count": 17,
   "id": "45766e95",
   "metadata": {},
   "outputs": [],
   "source": [
    "tekSayilar = list()\n",
    "for i in range(100):\n",
    "    if i % 2 == 1:\n",
    "        tekSayilar.append(i)\n",
    "        "
   ]
  },
  {
   "cell_type": "code",
   "execution_count": 18,
   "id": "a878cec3",
   "metadata": {},
   "outputs": [
    {
     "name": "stdout",
     "output_type": "stream",
     "text": [
      "Bir sayı giriniz: 5\n"
     ]
    }
   ],
   "source": [
    "sayi = int(input(\"Bir sayı giriniz: \"))\n",
    "toplam = 0\n",
    "for i in range (1, sayi+1):\n",
    "    toplam += i"
   ]
  },
  {
   "cell_type": "code",
   "execution_count": 19,
   "id": "315ea547",
   "metadata": {},
   "outputs": [
    {
     "data": {
      "text/plain": [
       "15"
      ]
     },
     "execution_count": 19,
     "metadata": {},
     "output_type": "execute_result"
    }
   ],
   "source": [
    "toplam"
   ]
  },
  {
   "cell_type": "markdown",
   "id": "c1c25614",
   "metadata": {},
   "source": [
    "### break - continue ifadeleri\n",
    "**break** ifadesinden sonra döngü tamamen son bulurken **continue** ifadesinden hemen sonra döngü bir sonraki aşamaya geçer."
   ]
  },
  {
   "cell_type": "code",
   "execution_count": 20,
   "id": "5948c085",
   "metadata": {},
   "outputs": [
    {
     "data": {
      "text/plain": [
       "['Ömer', 'Onur', 'Meltem', 'Hasan', 'Melike', 'Zehra', 'Yasmina', 'Eslem']"
      ]
     },
     "execution_count": 20,
     "metadata": {},
     "output_type": "execute_result"
    }
   ],
   "source": [
    "isimler"
   ]
  },
  {
   "cell_type": "code",
   "execution_count": 21,
   "id": "2f5de0ed",
   "metadata": {},
   "outputs": [
    {
     "name": "stdout",
     "output_type": "stream",
     "text": [
      "Ömer\n",
      "aaa\n",
      "Onur\n",
      "aaa\n",
      "Meltem\n",
      "aaa\n",
      "Hasan\n",
      "aaa\n",
      "Melike\n",
      "Zehra\n",
      "aaa\n",
      "Yasmina\n",
      "aaa\n",
      "Eslem\n",
      "aaa\n",
      "For döngüsünden çıkıldı\n"
     ]
    }
   ],
   "source": [
    "for isim in isimler:\n",
    "    print(isim)\n",
    "    \n",
    "    if isim == \"Melike\":\n",
    "        continue\n",
    "    \n",
    "    print(\"aaa\")\n",
    "    \n",
    "print(\"For döngüsünden çıkıldı\")"
   ]
  },
  {
   "cell_type": "code",
   "execution_count": 22,
   "id": "0921603f",
   "metadata": {},
   "outputs": [
    {
     "name": "stdout",
     "output_type": "stream",
     "text": [
      "0\n",
      "2\n",
      "4\n",
      "6\n",
      "8\n",
      "10\n",
      "12\n",
      "14\n",
      "16\n",
      "18\n",
      "20\n",
      "22\n",
      "24\n",
      "26\n",
      "28\n",
      "30\n",
      "32\n",
      "34\n",
      "36\n",
      "38\n",
      "40\n",
      "42\n",
      "44\n",
      "46\n",
      "48\n"
     ]
    }
   ],
   "source": [
    "for i in range(50):\n",
    "    if i % 2 == 1:\n",
    "        continue\n",
    "    print(i)"
   ]
  },
  {
   "cell_type": "code",
   "execution_count": 23,
   "id": "f4958953",
   "metadata": {},
   "outputs": [
    {
     "name": "stdout",
     "output_type": "stream",
     "text": [
      "0\n",
      "1\n",
      "2\n",
      "3\n",
      "4\n",
      "5\n",
      "6\n",
      "7\n",
      "8\n",
      "9\n",
      "10\n",
      "11\n",
      "12\n",
      "13\n",
      "14\n",
      "15\n",
      "16\n",
      "17\n",
      "18\n",
      "19\n",
      "20\n",
      "21\n",
      "22\n",
      "23\n",
      "24\n"
     ]
    }
   ],
   "source": [
    "for i in range(50):\n",
    "    if i == 25:\n",
    "        break\n",
    "    print(i)"
   ]
  }
 ],
 "metadata": {
  "kernelspec": {
   "display_name": "Python 3 (ipykernel)",
   "language": "python",
   "name": "python3"
  },
  "language_info": {
   "codemirror_mode": {
    "name": "ipython",
    "version": 3
   },
   "file_extension": ".py",
   "mimetype": "text/x-python",
   "name": "python",
   "nbconvert_exporter": "python",
   "pygments_lexer": "ipython3",
   "version": "3.10.9"
  }
 },
 "nbformat": 4,
 "nbformat_minor": 5
}
