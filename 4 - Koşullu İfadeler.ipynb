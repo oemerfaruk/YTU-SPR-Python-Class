{
 "cells": [
  {
   "cell_type": "markdown",
   "id": "23d68a37",
   "metadata": {},
   "source": [
    "# Koşullu İfadeler"
   ]
  },
  {
   "cell_type": "code",
   "execution_count": 52,
   "id": "dc88c752",
   "metadata": {},
   "outputs": [],
   "source": [
    "a = 55.5\n",
    "b = 100\n",
    "c = 0"
   ]
  },
  {
   "cell_type": "code",
   "execution_count": 9,
   "id": "2f16cc0f",
   "metadata": {},
   "outputs": [
    {
     "name": "stdout",
     "output_type": "stream",
     "text": [
      "A sayısı ile B sayısı eşittir.\n"
     ]
    }
   ],
   "source": [
    "# if koşul blok\n",
    "\n",
    "if a > b:\n",
    "    print(\"A sayısı büyüktür B sayısından.\")\n",
    "if a == b:\n",
    "    print(\"A sayısı ile B sayısı eşittir.\")\n",
    "    "
   ]
  },
  {
   "cell_type": "code",
   "execution_count": 24,
   "id": "5d3629fc",
   "metadata": {},
   "outputs": [
    {
     "name": "stdout",
     "output_type": "stream",
     "text": [
      "A sıfıra eşittir\n"
     ]
    }
   ],
   "source": [
    "if a > 10:\n",
    "    print(\"A sayısı 10'dan büyüktür\")\n",
    "elif a > 0: # else if\n",
    "    print(\"A sayısı sıfırdan büyüktür\")\n",
    "else:\n",
    "    print(\"A sıfıra eşittir\")"
   ]
  },
  {
   "cell_type": "code",
   "execution_count": 40,
   "id": "575c2441",
   "metadata": {},
   "outputs": [
    {
     "name": "stdout",
     "output_type": "stream",
     "text": [
      "A ve B eşittir.\n"
     ]
    }
   ],
   "source": [
    "if a < b:\n",
    "    print(\"A küçüktür B\")\n",
    "elif b < a:\n",
    "    print(\"B küçüktür A\")\n",
    "elif a == b:\n",
    "    print(\"A ve B eşittir.\")"
   ]
  },
  {
   "cell_type": "code",
   "execution_count": 36,
   "id": "5c73ac51",
   "metadata": {},
   "outputs": [
    {
     "name": "stdout",
     "output_type": "stream",
     "text": [
      "if bloğu çalışıyor\n"
     ]
    }
   ],
   "source": [
    "if True:\n",
    "    print(\"if bloğu çalışıyor\")"
   ]
  },
  {
   "cell_type": "code",
   "execution_count": 39,
   "id": "7bcf03ee",
   "metadata": {},
   "outputs": [
    {
     "name": "stdout",
     "output_type": "stream",
     "text": [
      "if bloğu çalışıyor\n"
     ]
    }
   ],
   "source": [
    "if (True and False) or True:\n",
    "    print(\"if bloğu çalışıyor\")"
   ]
  },
  {
   "cell_type": "code",
   "execution_count": 54,
   "id": "be9d7a39",
   "metadata": {},
   "outputs": [
    {
     "name": "stdout",
     "output_type": "stream",
     "text": [
      "A küçüktür B\n"
     ]
    }
   ],
   "source": [
    "if ((type(a) == int) or (type(a) == float)) and ((type(b) == int)  or (type(b) == float)):\n",
    "    if a < b:\n",
    "        print(\"A küçüktür B\")\n",
    "    elif b < a:\n",
    "        print(\"B küçüktür A\")\n",
    "    else:\n",
    "        print(\"A ve B eşittir.\")"
   ]
  },
  {
   "cell_type": "code",
   "execution_count": 53,
   "id": "934c9954",
   "metadata": {},
   "outputs": [
    {
     "data": {
      "text/plain": [
       "False"
      ]
     },
     "execution_count": 53,
     "metadata": {},
     "output_type": "execute_result"
    }
   ],
   "source": [
    "type(a) == int"
   ]
  },
  {
   "cell_type": "code",
   "execution_count": 56,
   "id": "a319119d",
   "metadata": {},
   "outputs": [
    {
     "name": "stdout",
     "output_type": "stream",
     "text": [
      "aaaaaaaa\n"
     ]
    }
   ],
   "source": [
    "if (a > 50) and (c == 0):\n",
    "    print(\"aaaaaaaa\")\n",
    "elif (a > 50) and (c != 0):\n",
    "    print(\"bbbbbbbbbb\")"
   ]
  },
  {
   "cell_type": "code",
   "execution_count": null,
   "id": "fe4cf26c",
   "metadata": {},
   "outputs": [],
   "source": []
  }
 ],
 "metadata": {
  "kernelspec": {
   "display_name": "Python 3 (ipykernel)",
   "language": "python",
   "name": "python3"
  },
  "language_info": {
   "codemirror_mode": {
    "name": "ipython",
    "version": 3
   },
   "file_extension": ".py",
   "mimetype": "text/x-python",
   "name": "python",
   "nbconvert_exporter": "python",
   "pygments_lexer": "ipython3",
   "version": "3.10.9"
  }
 },
 "nbformat": 4,
 "nbformat_minor": 5
}
