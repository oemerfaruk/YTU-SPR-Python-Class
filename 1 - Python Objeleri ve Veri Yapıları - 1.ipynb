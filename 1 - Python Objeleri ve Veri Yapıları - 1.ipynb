{
 "cells": [
  {
   "cell_type": "markdown",
   "id": "dcc67994",
   "metadata": {},
   "source": [
    "# Python Objeleri ve Veri Yapıları - 1\n",
    "\n",
    "+ Değişkenler\n",
    "+ Tip Dönüşümleri\n",
    "+ Matematiksel Operatörler\n",
    "+ Strings"
   ]
  },
  {
   "cell_type": "code",
   "execution_count": 1,
   "id": "3f546156",
   "metadata": {},
   "outputs": [
    {
     "name": "stdout",
     "output_type": "stream",
     "text": [
      "Merhaba Dünya!\n"
     ]
    }
   ],
   "source": [
    "print(\"Merhaba Dünya!\")"
   ]
  },
  {
   "cell_type": "markdown",
   "id": "71b53939",
   "metadata": {},
   "source": [
    "## Değişkenler"
   ]
  },
  {
   "cell_type": "code",
   "execution_count": 85,
   "id": "d1ffe67f",
   "metadata": {},
   "outputs": [],
   "source": [
    "isim    = \"Ömer Faruk\" #string\n",
    "soyisim = \"Aydın\"      #string\n",
    "yas     = 26           #int\n",
    "pi      = 3.14         #float"
   ]
  },
  {
   "cell_type": "code",
   "execution_count": 86,
   "id": "b93ac503",
   "metadata": {},
   "outputs": [
    {
     "name": "stdout",
     "output_type": "stream",
     "text": [
      "Ömer Faruk\n"
     ]
    }
   ],
   "source": [
    "print(isim) #isim değişkeni ekrana yazdır"
   ]
  },
  {
   "cell_type": "code",
   "execution_count": 87,
   "id": "dd362958",
   "metadata": {},
   "outputs": [
    {
     "data": {
      "text/plain": [
       "float"
      ]
     },
     "execution_count": 87,
     "metadata": {},
     "output_type": "execute_result"
    }
   ],
   "source": [
    "type(pi)  #pi değişkenin tipini söyle"
   ]
  },
  {
   "cell_type": "markdown",
   "id": "d0531b04",
   "metadata": {},
   "source": [
    "## Tip Dönüşümleri"
   ]
  },
  {
   "cell_type": "code",
   "execution_count": 88,
   "id": "ae8852c3",
   "metadata": {},
   "outputs": [
    {
     "data": {
      "text/plain": [
       "'26'"
      ]
     },
     "execution_count": 88,
     "metadata": {},
     "output_type": "execute_result"
    }
   ],
   "source": [
    "str(yas)"
   ]
  },
  {
   "cell_type": "code",
   "execution_count": 89,
   "id": "f87c3f19",
   "metadata": {},
   "outputs": [
    {
     "name": "stdout",
     "output_type": "stream",
     "text": [
      "<class 'int'>\n",
      "<class 'str'>\n"
     ]
    }
   ],
   "source": [
    "print(type(yas))\n",
    "print(type(str(yas)))"
   ]
  },
  {
   "cell_type": "code",
   "execution_count": 90,
   "id": "71e2a773",
   "metadata": {},
   "outputs": [
    {
     "data": {
      "text/plain": [
       "3"
      ]
     },
     "execution_count": 90,
     "metadata": {},
     "output_type": "execute_result"
    }
   ],
   "source": [
    "int(pi)"
   ]
  },
  {
   "cell_type": "code",
   "execution_count": 91,
   "id": "59a73aff",
   "metadata": {},
   "outputs": [
    {
     "data": {
      "text/plain": [
       "26.0"
      ]
     },
     "execution_count": 91,
     "metadata": {},
     "output_type": "execute_result"
    }
   ],
   "source": [
    "float(yas)"
   ]
  },
  {
   "cell_type": "markdown",
   "id": "2e6d3727",
   "metadata": {},
   "source": [
    "## Matematiksel Operatörler"
   ]
  },
  {
   "cell_type": "markdown",
   "id": "6088518f",
   "metadata": {},
   "source": [
    "|İşlem|Operatör|\n",
    "|-----|-----|\n",
    "|toplama| + |\n",
    "|çıkarma| - |\n",
    "|çarpma| * |\n",
    "|bölme| / |\n",
    "|üs alma| ** |\n",
    "|mod alma| % |\n",
    "|kalansız bölme| // |"
   ]
  },
  {
   "cell_type": "code",
   "execution_count": 92,
   "id": "63f31d71",
   "metadata": {},
   "outputs": [],
   "source": [
    "a = 5\n",
    "b = 3"
   ]
  },
  {
   "cell_type": "code",
   "execution_count": 93,
   "id": "9c15b5da",
   "metadata": {},
   "outputs": [
    {
     "data": {
      "text/plain": [
       "8"
      ]
     },
     "execution_count": 93,
     "metadata": {},
     "output_type": "execute_result"
    }
   ],
   "source": [
    "a + b"
   ]
  },
  {
   "cell_type": "code",
   "execution_count": 94,
   "id": "c5d28d81",
   "metadata": {},
   "outputs": [
    {
     "data": {
      "text/plain": [
       "2"
      ]
     },
     "execution_count": 94,
     "metadata": {},
     "output_type": "execute_result"
    }
   ],
   "source": [
    "a - b"
   ]
  },
  {
   "cell_type": "code",
   "execution_count": 95,
   "id": "7c1715eb",
   "metadata": {},
   "outputs": [],
   "source": [
    "c = a * b"
   ]
  },
  {
   "cell_type": "code",
   "execution_count": 97,
   "id": "1cf22d8b",
   "metadata": {},
   "outputs": [
    {
     "data": {
      "text/plain": [
       "15"
      ]
     },
     "execution_count": 97,
     "metadata": {},
     "output_type": "execute_result"
    }
   ],
   "source": [
    "c"
   ]
  },
  {
   "cell_type": "code",
   "execution_count": 98,
   "id": "c6f8fa88",
   "metadata": {},
   "outputs": [
    {
     "data": {
      "text/plain": [
       "1.6666666666666667"
      ]
     },
     "execution_count": 98,
     "metadata": {},
     "output_type": "execute_result"
    }
   ],
   "source": [
    "a / b"
   ]
  },
  {
   "cell_type": "code",
   "execution_count": 99,
   "id": "cbdbc1e2",
   "metadata": {},
   "outputs": [
    {
     "data": {
      "text/plain": [
       "2"
      ]
     },
     "execution_count": 99,
     "metadata": {},
     "output_type": "execute_result"
    }
   ],
   "source": [
    "a % b"
   ]
  },
  {
   "cell_type": "code",
   "execution_count": 100,
   "id": "7fd431ac",
   "metadata": {},
   "outputs": [
    {
     "data": {
      "text/plain": [
       "1"
      ]
     },
     "execution_count": 100,
     "metadata": {},
     "output_type": "execute_result"
    }
   ],
   "source": [
    "a // b"
   ]
  },
  {
   "cell_type": "code",
   "execution_count": 101,
   "id": "cd005454",
   "metadata": {},
   "outputs": [
    {
     "data": {
      "text/plain": [
       "125"
      ]
     },
     "execution_count": 101,
     "metadata": {},
     "output_type": "execute_result"
    }
   ],
   "source": [
    "a ** b"
   ]
  },
  {
   "cell_type": "code",
   "execution_count": 102,
   "id": "62348ffb",
   "metadata": {},
   "outputs": [
    {
     "data": {
      "text/plain": [
       "2401"
      ]
     },
     "execution_count": 102,
     "metadata": {},
     "output_type": "execute_result"
    }
   ],
   "source": [
    "pow(7,4)"
   ]
  },
  {
   "cell_type": "markdown",
   "id": "cd40c769",
   "metadata": {},
   "source": [
    "## Strings"
   ]
  },
  {
   "cell_type": "code",
   "execution_count": 106,
   "id": "78bfa047",
   "metadata": {},
   "outputs": [],
   "source": [
    "metin = \"Benim adım \" + isim + \" soyadım \" + soyisim"
   ]
  },
  {
   "cell_type": "code",
   "execution_count": 107,
   "id": "95a367de",
   "metadata": {},
   "outputs": [
    {
     "name": "stdout",
     "output_type": "stream",
     "text": [
      "Benim adım Ömer Faruk soyadım Aydın\n"
     ]
    }
   ],
   "source": [
    "print(metin)"
   ]
  },
  {
   "cell_type": "markdown",
   "id": "eeea786b",
   "metadata": {},
   "source": [
    "### format() metodu"
   ]
  },
  {
   "cell_type": "code",
   "execution_count": 112,
   "id": "d97fa786",
   "metadata": {},
   "outputs": [
    {
     "name": "stdout",
     "output_type": "stream",
     "text": [
      "Benim adım Ömer Faruk soyadım Aydın. 26 Yaşındayım.\n"
     ]
    }
   ],
   "source": [
    "print(\"Benim adım {0} soyadım {1}. {2} Yaşındayım.\".format(isim,soyisim,yas))"
   ]
  },
  {
   "cell_type": "markdown",
   "id": "43d3bd20",
   "metadata": {},
   "source": [
    "### Kaçış dizesi"
   ]
  },
  {
   "cell_type": "markdown",
   "id": "7ff69c6c",
   "metadata": {},
   "source": [
    "\\n yeni satır\n",
    "\\t bir tab boşluk\n",
    "\\ kendisinden sonra geleni işlevsiz bırakır"
   ]
  },
  {
   "cell_type": "code",
   "execution_count": 114,
   "id": "0a75eeee",
   "metadata": {},
   "outputs": [
    {
     "name": "stdout",
     "output_type": "stream",
     "text": [
      "Benim adım \"Ömer Faruk\"\n",
      "Yıldız Teknik Üniversitesi Fizik Bölümünde öğrenciyim.\n"
     ]
    }
   ],
   "source": [
    "print(\"Benim adım \\\"Ömer Faruk\\\"\\nYıldız Teknik Üniversitesi Fizik Bölümünde öğrenciyim.\")"
   ]
  },
  {
   "cell_type": "markdown",
   "id": "f7071493",
   "metadata": {},
   "source": [
    "### Çoklu dize"
   ]
  },
  {
   "cell_type": "code",
   "execution_count": 115,
   "id": "e2101a3e",
   "metadata": {},
   "outputs": [
    {
     "name": "stdout",
     "output_type": "stream",
     "text": [
      "\n",
      "Benim adım Ömer Faruk\n",
      "Python anlatıyorum\n",
      "Ytü'de okuyorum\n",
      "\n"
     ]
    }
   ],
   "source": [
    "print(\"\"\"\n",
    "Benim adım Ömer Faruk\n",
    "Python anlatıyorum\n",
    "Ytü'de okuyorum\n",
    "\"\"\")"
   ]
  },
  {
   "cell_type": "markdown",
   "id": "83013ee8",
   "metadata": {},
   "source": [
    "### Metotlar"
   ]
  },
  {
   "cell_type": "code",
   "execution_count": 124,
   "id": "3f3ce35e",
   "metadata": {},
   "outputs": [],
   "source": [
    "mesaj = \"merhaba dünya\""
   ]
  },
  {
   "cell_type": "code",
   "execution_count": 125,
   "id": "2009e19e",
   "metadata": {},
   "outputs": [
    {
     "name": "stdout",
     "output_type": "stream",
     "text": [
      "merhaba dünya\n"
     ]
    }
   ],
   "source": [
    "print(mesaj)"
   ]
  },
  {
   "cell_type": "code",
   "execution_count": 126,
   "id": "3a8295a6",
   "metadata": {},
   "outputs": [
    {
     "data": {
      "text/plain": [
       "['merhaba', 'dünya']"
      ]
     },
     "execution_count": 126,
     "metadata": {},
     "output_type": "execute_result"
    }
   ],
   "source": [
    "mesaj.split() #split metotu varsayılan olarak 'boşluk' olduğu yerden ayırır."
   ]
  },
  {
   "cell_type": "code",
   "execution_count": 127,
   "id": "49f20ee3",
   "metadata": {},
   "outputs": [
    {
     "data": {
      "text/plain": [
       "'MERHABA DÜNYA'"
      ]
     },
     "execution_count": 127,
     "metadata": {},
     "output_type": "execute_result"
    }
   ],
   "source": [
    "mesaj.upper()"
   ]
  },
  {
   "cell_type": "code",
   "execution_count": 128,
   "id": "0ea7f2ba",
   "metadata": {},
   "outputs": [
    {
     "data": {
      "text/plain": [
       "'merhaba dünya'"
      ]
     },
     "execution_count": 128,
     "metadata": {},
     "output_type": "execute_result"
    }
   ],
   "source": [
    "mesaj.lower()"
   ]
  },
  {
   "cell_type": "code",
   "execution_count": 129,
   "id": "ecbb8c8f",
   "metadata": {},
   "outputs": [
    {
     "data": {
      "text/plain": [
       "8"
      ]
     },
     "execution_count": 129,
     "metadata": {},
     "output_type": "execute_result"
    }
   ],
   "source": [
    "mesaj.find(\"dünya\")"
   ]
  },
  {
   "cell_type": "code",
   "execution_count": 130,
   "id": "3eb90986",
   "metadata": {},
   "outputs": [],
   "source": [
    "mesaj = \"          merhaba dünya         \""
   ]
  },
  {
   "cell_type": "code",
   "execution_count": 131,
   "id": "fa1c4f04",
   "metadata": {},
   "outputs": [
    {
     "data": {
      "text/plain": [
       "'          merhaba dünya         '"
      ]
     },
     "execution_count": 131,
     "metadata": {},
     "output_type": "execute_result"
    }
   ],
   "source": [
    "mesaj"
   ]
  },
  {
   "cell_type": "code",
   "execution_count": 132,
   "id": "2482b473",
   "metadata": {},
   "outputs": [
    {
     "data": {
      "text/plain": [
       "'merhaba dünya'"
      ]
     },
     "execution_count": 132,
     "metadata": {},
     "output_type": "execute_result"
    }
   ],
   "source": [
    "mesaj.strip()"
   ]
  },
  {
   "cell_type": "code",
   "execution_count": 133,
   "id": "2e44eddf",
   "metadata": {},
   "outputs": [
    {
     "data": {
      "text/plain": [
       "'          merhaba mars         '"
      ]
     },
     "execution_count": 133,
     "metadata": {},
     "output_type": "execute_result"
    }
   ],
   "source": [
    "mesaj.replace(\"dünya\",\"mars\")"
   ]
  }
 ],
 "metadata": {
  "kernelspec": {
   "display_name": "Python 3 (ipykernel)",
   "language": "python",
   "name": "python3"
  },
  "language_info": {
   "codemirror_mode": {
    "name": "ipython",
    "version": 3
   },
   "file_extension": ".py",
   "mimetype": "text/x-python",
   "name": "python",
   "nbconvert_exporter": "python",
   "pygments_lexer": "ipython3",
   "version": "3.10.9"
  }
 },
 "nbformat": 4,
 "nbformat_minor": 5
}
