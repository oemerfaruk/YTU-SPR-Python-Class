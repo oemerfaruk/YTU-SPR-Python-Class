{
  "cells": [
    {
      "cell_type": "markdown",
      "id": "140d40b0",
      "metadata": {
        "id": "140d40b0"
      },
      "source": [
        "#For Else\n",
        "-For else yapısı, bir for döngüsünün işlemini tamamladıktan sonra veya döngüde hiçbir öğe olmadığında çalışacak kod parçacığı sağlar.\n",
        "\n",
        "-Bu yapı, özellikle belirli bir koşulu sağlayan bir öğenin döngü içinde bulunup bulunmadığını kontrol etmek veya döngünün her öğeyi denedikten sonra belirli bir işlemi yapmasını sağlamak için kullanışlıdır.\n",
        "\n",
        "-For kendi kendine biterse else çalışıyor, break ile biterse else çalışmıyor."
      ]
    },
    {
      "cell_type": "code",
      "execution_count": null,
      "id": "ca2188b8",
      "metadata": {
        "id": "ca2188b8",
        "colab": {
          "base_uri": "https://localhost:8080/"
        },
        "outputId": "846e0ddf-bb7a-43df-bd2a-52165655128a"
      },
      "outputs": [
        {
          "output_type": "stream",
          "name": "stdout",
          "text": [
            "0\n",
            "1\n",
            "2\n",
            "3\n",
            "4\n",
            "For fonksiyonu bitti\n"
          ]
        }
      ],
      "source": [
        "for i in range(5):\n",
        "    print(i)\n",
        "else:\n",
        "    print(\"For fonksiyonu bitti\")"
      ]
    },
    {
      "cell_type": "code",
      "execution_count": null,
      "id": "9ec47cae",
      "metadata": {
        "id": "9ec47cae",
        "colab": {
          "base_uri": "https://localhost:8080/"
        },
        "outputId": "3a301a9d-6586-4260-b2f2-432d852efcdf"
      },
      "outputs": [
        {
          "output_type": "stream",
          "name": "stdout",
          "text": [
            "0\n",
            "1\n",
            "2\n",
            "3\n"
          ]
        }
      ],
      "source": [
        "for i in range(5):\n",
        "    print(i)\n",
        "    if i == 3:\n",
        "        break\n",
        "else:\n",
        "    print(\"For fonksiyonu bitti\")"
      ]
    },
    {
      "cell_type": "code",
      "source": [
        "numbers = [1, 2, 3, 4, 5]\n",
        "target = 6\n",
        "\n",
        "for num in numbers:\n",
        "    if num == target:\n",
        "        print(\"Hedef bulundu\")\n",
        "        break\n",
        "else:\n",
        "    print(\"Hedef bulunamadı\")"
      ],
      "metadata": {
        "colab": {
          "base_uri": "https://localhost:8080/"
        },
        "id": "DyLs1vCEKveK",
        "outputId": "610964f3-06ea-4e94-d37e-c554dc51299f"
      },
      "id": "DyLs1vCEKveK",
      "execution_count": null,
      "outputs": [
        {
          "output_type": "stream",
          "name": "stdout",
          "text": [
            "Hedef bulunamadı\n"
          ]
        }
      ]
    },
    {
      "cell_type": "markdown",
      "id": "87c71d15",
      "metadata": {
        "id": "87c71d15"
      },
      "source": [
        "#List Comprehension"
      ]
    },
    {
      "cell_type": "markdown",
      "id": "26e2a977",
      "metadata": {
        "id": "26e2a977"
      },
      "source": [
        "-List compherension, liste oluşturma ve dönüştürme işlemlerini daha sade, okunabilir ve kompakt bir şekilde gerçekleştirmek için kullanılır.\n",
        "\n",
        "-Oluşan yeni liste önceki listeyi değiştirmez.\n",
        "\n",
        "**Syntax:**\n",
        "\n",
        "newlist = \\[*expression* **for** *item* **in** *iterable* **if** *condition == True*\\]"
      ]
    },
    {
      "cell_type": "code",
      "execution_count": null,
      "id": "31dbabc9",
      "metadata": {
        "id": "31dbabc9",
        "outputId": "d7f73f98-08a3-41ac-bea5-41538c8ba1bf",
        "colab": {
          "base_uri": "https://localhost:8080/"
        }
      },
      "outputs": [
        {
          "output_type": "stream",
          "name": "stdout",
          "text": [
            "['Elma', 'Kiraz']\n"
          ]
        }
      ],
      "source": [
        "meyveler = [\"Elma\", \"Muz\", \"Kiraz\", \"Kivi\", \"Çilek\"]\n",
        "yeniListe = []\n",
        "\n",
        "for meyve in meyveler:\n",
        "    if \"a\" in meyve: # a karakteri meyve değişkeninde varsa True döner ve bu değişken listeye eklenir\n",
        "        yeniListe.append(meyve)\n",
        "\n",
        "print(yeniListe)\n",
        "\n",
        "# List comprehension değil."
      ]
    },
    {
      "cell_type": "code",
      "execution_count": null,
      "id": "fc0ddf9c",
      "metadata": {
        "id": "fc0ddf9c",
        "outputId": "c247447d-5c34-4f57-ade3-d8243595dbc7",
        "colab": {
          "base_uri": "https://localhost:8080/"
        }
      },
      "outputs": [
        {
          "output_type": "stream",
          "name": "stdout",
          "text": [
            "['Kiraz', 'Kivi', 'Çilek']\n"
          ]
        }
      ],
      "source": [
        "meyveler = [\"Elma\", \"Muz\", \"Kiraz\", \"Kivi\", \"Çilek\"]\n",
        "\n",
        "# i değişkeni meyeveler listesinde döner. i harfi bulunan eleman listeye eklenir\n",
        "yeniListe = [i for i in meyveler if \"i\" in i]\n",
        "print(yeniListe)"
      ]
    },
    {
      "cell_type": "markdown",
      "source": [
        "##Condition"
      ],
      "metadata": {
        "id": "hvpqVbOp-tST"
      },
      "id": "hvpqVbOp-tST"
    },
    {
      "cell_type": "code",
      "source": [
        "newlist = [x for x in meyveler if x != \"Elma\"]\n",
        "newlist"
      ],
      "metadata": {
        "colab": {
          "base_uri": "https://localhost:8080/"
        },
        "id": "EA3a3JC59XPe",
        "outputId": "c17d961f-83ac-481a-cc70-c64ca852ba47"
      },
      "id": "EA3a3JC59XPe",
      "execution_count": null,
      "outputs": [
        {
          "output_type": "execute_result",
          "data": {
            "text/plain": [
              "['Muz', 'Kiraz', 'Kivi', 'Çilek']"
            ]
          },
          "metadata": {},
          "execution_count": 10
        }
      ]
    },
    {
      "cell_type": "code",
      "source": [
        "# Condition olmak zorunda değil.\n",
        "newlist = [x for x in meyveler]\n",
        "newlist"
      ],
      "metadata": {
        "colab": {
          "base_uri": "https://localhost:8080/"
        },
        "id": "JU4RutPf9oDA",
        "outputId": "cd05fe29-40fa-498c-eac5-848a2fed6990"
      },
      "id": "JU4RutPf9oDA",
      "execution_count": null,
      "outputs": [
        {
          "output_type": "execute_result",
          "data": {
            "text/plain": [
              "['Elma', 'Muz', 'Kiraz', 'Kivi', 'Çilek']"
            ]
          },
          "metadata": {},
          "execution_count": 12
        }
      ]
    },
    {
      "cell_type": "markdown",
      "source": [
        "##Iterable\n",
        "Liste, tuple, set vb. gibi yinelenebilir herhangi bir nesne olabilir."
      ],
      "metadata": {
        "id": "BK87v9zN-8UK"
      },
      "id": "BK87v9zN-8UK"
    },
    {
      "cell_type": "code",
      "source": [
        "newlist = [x for x in range(10) if x%2==1]\n",
        "newlist"
      ],
      "metadata": {
        "colab": {
          "base_uri": "https://localhost:8080/"
        },
        "id": "VW4eU2Q_-_b4",
        "outputId": "b52346a2-16a7-4273-e455-b1040254e7d8"
      },
      "id": "VW4eU2Q_-_b4",
      "execution_count": null,
      "outputs": [
        {
          "output_type": "execute_result",
          "data": {
            "text/plain": [
              "[1, 3, 5, 7, 9]"
            ]
          },
          "metadata": {},
          "execution_count": 18
        }
      ]
    },
    {
      "cell_type": "markdown",
      "source": [
        "##Expression"
      ],
      "metadata": {
        "id": "9zIPaVl4_7vn"
      },
      "id": "9zIPaVl4_7vn"
    },
    {
      "cell_type": "code",
      "source": [
        "newlist = [x for x in meyveler]\n",
        "newlist"
      ],
      "metadata": {
        "colab": {
          "base_uri": "https://localhost:8080/"
        },
        "id": "nVKP1p_3ADeW",
        "outputId": "889ad0a0-a8f9-4286-d125-1b571aa891c7"
      },
      "id": "nVKP1p_3ADeW",
      "execution_count": null,
      "outputs": [
        {
          "output_type": "execute_result",
          "data": {
            "text/plain": [
              "['Elma', 'Muz', 'Kiraz', 'Kivi', 'Çilek']"
            ]
          },
          "metadata": {},
          "execution_count": 21
        }
      ]
    },
    {
      "cell_type": "code",
      "source": [
        "newlist = [x.upper() for x in meyveler]\n",
        "newlist"
      ],
      "metadata": {
        "colab": {
          "base_uri": "https://localhost:8080/"
        },
        "id": "QhkC9BVU_-8I",
        "outputId": "d4bc9437-6134-4ded-b63a-c5f5415cf034"
      },
      "id": "QhkC9BVU_-8I",
      "execution_count": null,
      "outputs": [
        {
          "output_type": "execute_result",
          "data": {
            "text/plain": [
              "['ELMA', 'MUZ', 'KIRAZ', 'KIVI', 'ÇILEK']"
            ]
          },
          "metadata": {},
          "execution_count": 22
        }
      ]
    },
    {
      "cell_type": "code",
      "source": [
        "newlist = ['Sena' for x in meyveler]\n",
        "newlist"
      ],
      "metadata": {
        "colab": {
          "base_uri": "https://localhost:8080/"
        },
        "id": "v6QgmAOqAHWn",
        "outputId": "38ce780d-82aa-43d2-bf37-8fd37b08b0ae"
      },
      "id": "v6QgmAOqAHWn",
      "execution_count": null,
      "outputs": [
        {
          "output_type": "execute_result",
          "data": {
            "text/plain": [
              "['Sena', 'Sena', 'Sena', 'Sena', 'Sena']"
            ]
          },
          "metadata": {},
          "execution_count": 25
        }
      ]
    },
    {
      "cell_type": "code",
      "source": [
        "# Expression içinde koşul yazma\n",
        "newlist = [x if x != \"Muz\" else \"Çilek\" for x in meyveler]\n",
        "newlist\n",
        "# Muz değilse kendisini döndür, muz ise muz yerine çilek döndür."
      ],
      "metadata": {
        "colab": {
          "base_uri": "https://localhost:8080/"
        },
        "id": "4awhUa9hAiSS",
        "outputId": "d85f15f8-9543-4eb0-8cba-681589c96b91"
      },
      "id": "4awhUa9hAiSS",
      "execution_count": null,
      "outputs": [
        {
          "output_type": "execute_result",
          "data": {
            "text/plain": [
              "['Elma', 'Çilek', 'Kiraz', 'Kivi', 'Çilek']"
            ]
          },
          "metadata": {},
          "execution_count": 27
        }
      ]
    },
    {
      "cell_type": "markdown",
      "id": "1e391a6b",
      "metadata": {
        "id": "1e391a6b"
      },
      "source": [
        "#Lambda Function"
      ]
    },
    {
      "cell_type": "markdown",
      "source": [
        "-Lambda fonksiyonları, özellikle küçük ve basit işlemler için hızlı ve kompakt çözümler sunmak amacıyla kullanılır.\n",
        "\n",
        "**Syntax:**\n",
        "\n",
        "lambda *arguments* : *expression*"
      ],
      "metadata": {
        "id": "P2ImHC1zIHpe"
      },
      "id": "P2ImHC1zIHpe"
    },
    {
      "cell_type": "code",
      "execution_count": null,
      "id": "e2d34a1c",
      "metadata": {
        "id": "e2d34a1c",
        "colab": {
          "base_uri": "https://localhost:8080/"
        },
        "outputId": "0b445b50-ce2e-42ba-d250-5f17bb15a0f6"
      },
      "outputs": [
        {
          "output_type": "execute_result",
          "data": {
            "text/plain": [
              "9"
            ]
          },
          "metadata": {},
          "execution_count": 43
        }
      ],
      "source": [
        "x = lambda a : a + 5\n",
        "x(4)"
      ]
    },
    {
      "cell_type": "code",
      "execution_count": null,
      "id": "4d78136b",
      "metadata": {
        "id": "4d78136b",
        "colab": {
          "base_uri": "https://localhost:8080/"
        },
        "outputId": "92d07fd2-751c-4309-8b15-12bbe1e195ce"
      },
      "outputs": [
        {
          "output_type": "execute_result",
          "data": {
            "text/plain": [
              "15"
            ]
          },
          "metadata": {},
          "execution_count": 46
        }
      ],
      "source": [
        "multiply = lambda a, b : a * b\n",
        "multiply(5,3)"
      ]
    },
    {
      "cell_type": "code",
      "source": [
        "sum = lambda a, b, c : a + b + c\n",
        "print(x(5, 6, 2))"
      ],
      "metadata": {
        "colab": {
          "base_uri": "https://localhost:8080/"
        },
        "id": "PtRAB1hhDrko",
        "outputId": "8ddc9a71-8460-4ff3-ad4a-8812899e022a"
      },
      "id": "PtRAB1hhDrko",
      "execution_count": null,
      "outputs": [
        {
          "output_type": "stream",
          "name": "stdout",
          "text": [
            "13\n"
          ]
        }
      ]
    },
    {
      "cell_type": "code",
      "source": [
        "# Sayının karesini almak için\n",
        "\n",
        "square = lambda x: x ** 2\n",
        "square(4)"
      ],
      "metadata": {
        "colab": {
          "base_uri": "https://localhost:8080/"
        },
        "id": "nT-z1ix_FKNX",
        "outputId": "cbdbcfac-88ea-4dbf-e383-272bdab25b7a"
      },
      "id": "nT-z1ix_FKNX",
      "execution_count": null,
      "outputs": [
        {
          "output_type": "execute_result",
          "data": {
            "text/plain": [
              "16"
            ]
          },
          "metadata": {},
          "execution_count": 51
        }
      ]
    },
    {
      "cell_type": "code",
      "source": [
        "# Lambda fonksiyonunu başka bir fonksiyonun içinde kullanmak için\n",
        "\n",
        "def myfunc(n):\n",
        "  return lambda a : a * n\n",
        "\n",
        "mydoubler = myfunc(2) # Girdiğin her sayıyı 2 ile çarpan fonksiyon\n",
        "mytripler = myfunc(3) # Girdiğin her sayıyı 3 ile çarpan fonksiyon\n",
        "\n",
        "print(mydoubler(24))\n",
        "print(mytripler(24))"
      ],
      "metadata": {
        "colab": {
          "base_uri": "https://localhost:8080/"
        },
        "id": "DXP4oG9tD9pP",
        "outputId": "f704d817-de73-49af-b8eb-c648d7fd8ce7"
      },
      "id": "DXP4oG9tD9pP",
      "execution_count": null,
      "outputs": [
        {
          "output_type": "stream",
          "name": "stdout",
          "text": [
            "48\n",
            "72\n"
          ]
        }
      ]
    },
    {
      "cell_type": "code",
      "source": [
        "students = [\n",
        "    {\"name\": \"Alice\", \"grade\": 85},\n",
        "    {\"name\": \"Bob\", \"grade\": 92},\n",
        "    {\"name\": \"Charlie\", \"grade\": 78},\n",
        "    {\"name\": \"David\", \"grade\": 95},\n",
        "]\n",
        "\n",
        "# Öğrencileri notlarına göre sıralama\n",
        "students.sort(key=lambda student: student[\"grade\"])\n",
        "\n",
        "print(students)"
      ],
      "metadata": {
        "colab": {
          "base_uri": "https://localhost:8080/"
        },
        "id": "HWIYP0oXHmlO",
        "outputId": "c438cf63-8621-4f23-a948-abb1a93e90ce"
      },
      "id": "HWIYP0oXHmlO",
      "execution_count": null,
      "outputs": [
        {
          "output_type": "stream",
          "name": "stdout",
          "text": [
            "[{'name': 'Charlie', 'grade': 78}, {'name': 'Alice', 'grade': 85}, {'name': 'Bob', 'grade': 92}, {'name': 'David', 'grade': 95}]\n"
          ]
        }
      ]
    },
    {
      "cell_type": "markdown",
      "source": [
        "#Modules"
      ],
      "metadata": {
        "id": "4lhTq75CCLdO"
      },
      "id": "4lhTq75CCLdO"
    },
    {
      "cell_type": "markdown",
      "source": [
        "-Modüller programın daha düzenli, yönetilebilir ve genişletilebilir hale getirilmesini sağlar. Modüller, bir araya toplanmış fonksiyonlar, sınıflar ve değişkenlerden oluşur ve belirli bir amaca hizmet eden kod parçalarını gruplamak için kullanılırlar."
      ],
      "metadata": {
        "id": "OanHVU3sLChx"
      },
      "id": "OanHVU3sLChx"
    },
    {
      "cell_type": "code",
      "execution_count": null,
      "id": "f9aaef06",
      "metadata": {
        "id": "f9aaef06"
      },
      "outputs": [],
      "source": [
        "import random"
      ]
    },
    {
      "cell_type": "code",
      "execution_count": null,
      "id": "c88f06b9",
      "metadata": {
        "id": "c88f06b9"
      },
      "outputs": [],
      "source": [
        "num = random.randint(0,50)\n",
        "hak = 5"
      ]
    },
    {
      "cell_type": "code",
      "execution_count": null,
      "id": "d33e417d",
      "metadata": {
        "id": "d33e417d",
        "colab": {
          "base_uri": "https://localhost:8080/"
        },
        "outputId": "25dcd8c2-02d3-4297-c647-bc2713886b4b"
      },
      "outputs": [
        {
          "output_type": "stream",
          "name": "stdout",
          "text": [
            "0-50 arasindaki tahmininizi girin:25\n",
            "Daha küçük sayı giriniz.\n",
            "Kalan hakkınız: 4\n",
            "0-50 arasindaki tahmininizi girin:20\n",
            "Daha küçük sayı giriniz.\n",
            "Kalan hakkınız: 3\n",
            "0-50 arasindaki tahmininizi girin:15\n",
            "Daha küçük sayı giriniz.\n",
            "Kalan hakkınız: 2\n",
            "0-50 arasindaki tahmininizi girin:10\n",
            "Daha küçük sayı giriniz.\n",
            "Kalan hakkınız: 1\n",
            "0-50 arasindaki tahmininizi girin:5\n",
            "Tebrikler sayıyı doğru tahmin ettiniz.\n",
            "Sayı: 5\n"
          ]
        }
      ],
      "source": [
        "# Sayı Tahmin Oyunu\n",
        "\n",
        "while hak > 0:\n",
        "  tahmin = int(input(\"0-50 arasindaki tahmininizi girin:\"))\n",
        "\n",
        "  if tahmin > num:\n",
        "    hak = hak - 1\n",
        "    print(\"Daha küçük sayı giriniz.\\nKalan hakkınız: {}\".format(hak))\n",
        "\n",
        "  elif tahmin < num:\n",
        "    hak = hak - 1\n",
        "    print(\"Daha büyük sayı giriniz.\\nKalan hakkınız: {}\".format(hak))\n",
        "\n",
        "  else:\n",
        "    print(\"Tebrikler sayıyı doğru tahmin ettiniz.\\nSayı: {}\".format(num))\n",
        "    break\n",
        "\n",
        "  if hak == 0:\n",
        "    print(\"Hakkınız bitti.\\nSayı: {}\".format(num))"
      ]
    }
  ],
  "metadata": {
    "kernelspec": {
      "display_name": "Python 3 (ipykernel)",
      "language": "python",
      "name": "python3"
    },
    "language_info": {
      "codemirror_mode": {
        "name": "ipython",
        "version": 3
      },
      "file_extension": ".py",
      "mimetype": "text/x-python",
      "name": "python",
      "nbconvert_exporter": "python",
      "pygments_lexer": "ipython3",
      "version": "3.11.4"
    },
    "colab": {
      "provenance": []
    }
  },
  "nbformat": 4,
  "nbformat_minor": 5
}