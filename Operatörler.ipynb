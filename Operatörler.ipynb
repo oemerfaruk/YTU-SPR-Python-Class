{
  "nbformat": 4,
  "nbformat_minor": 0,
  "metadata": {
    "colab": {
      "provenance": []
    },
    "kernelspec": {
      "name": "python3",
      "display_name": "Python 3"
    },
    "language_info": {
      "name": "python"
    }
  },
  "cells": [
    {
      "cell_type": "markdown",
      "source": [
        "# Operatörler"
      ],
      "metadata": {
        "id": "LLzJfluh_wAc"
      }
    },
    {
      "cell_type": "markdown",
      "source": [
        "## Atama Operatörleri\n",
        "|Operatör|Kullanım|Kullanım 2|\n",
        "|-----|-----|------|\n",
        "|=|x = y||\n",
        "|+=|x += y|x = x + y|\n",
        "|-=|x -= y|x = x - y|\n",
        "|*=|x *= y|x = x * y|\n",
        "|/=|x /= y|x = x / y|\n"
      ],
      "metadata": {
        "id": "GM3P1lXA6luG"
      }
    },
    {
      "cell_type": "markdown",
      "source": [
        "## Karşılaştırma Operatörleri\n",
        "|Operatör|Açıklama|Kullanım|Sonuç|\n",
        "|-----|-----|------|-----|\n",
        "|==|Eşittir| 5 == 5| True|\n",
        "|!=|Eşit değildir|5 != 3|True|\n",
        "|<|Küçüktür|3 < 5| True |\n",
        "|>|Büyüktür|5 > 8| True |\n",
        "|<=|Küçük eşittir|5 <= 5|True|\n",
        "|>=|Büyük eşittir|2 >= 1|True|\n"
      ],
      "metadata": {
        "id": "qnmoW8h2-Jrq"
      }
    },
    {
      "cell_type": "markdown",
      "source": [
        "## Mantıksal Operatörler\n",
        "|Operatör|Kullanım|Sonuç|\n",
        "|-----|------|-----|\n",
        "|and|(3 < 5) and (10 == 10)| True |\n",
        "|or|(3 < 5) or (10 == 9)| True|\n",
        "|not|not( 3 < 5)|False|\n",
        "\n"
      ],
      "metadata": {
        "id": "_v2cVpzD9Em6"
      }
    }
  ]
}