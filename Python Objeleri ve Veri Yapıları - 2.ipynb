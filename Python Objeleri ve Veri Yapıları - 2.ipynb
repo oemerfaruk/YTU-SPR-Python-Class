{
 "cells": [
  {
   "cell_type": "markdown",
   "id": "bfe3ceac",
   "metadata": {},
   "source": [
    "# Python Objeleri ve Veri Yapıları - 2\n",
    "\n",
    "+ Liste\n",
    "+ Tuple\n",
    "+ Sets\n",
    "+ Sözlük"
   ]
  },
  {
   "cell_type": "markdown",
   "id": "a1eaf259",
   "metadata": {},
   "source": [
    "## Listeler"
   ]
  },
  {
   "cell_type": "code",
   "execution_count": 1,
   "id": "c5ef96e0",
   "metadata": {},
   "outputs": [],
   "source": [
    "isimler = [\"Ömer Faruk\", \"Onur\", \"Meltem\",\"Zehra\",\"Yasmina\",\"Eslem\"]"
   ]
  },
  {
   "cell_type": "code",
   "execution_count": 4,
   "id": "a6d7f5cb",
   "metadata": {},
   "outputs": [
    {
     "data": {
      "text/plain": [
       "list"
      ]
     },
     "execution_count": 4,
     "metadata": {},
     "output_type": "execute_result"
    }
   ],
   "source": [
    "type(isimler)"
   ]
  },
  {
   "cell_type": "code",
   "execution_count": 8,
   "id": "cfaa821a",
   "metadata": {},
   "outputs": [
    {
     "data": {
      "text/plain": [
       "'Onur'"
      ]
     },
     "execution_count": 8,
     "metadata": {},
     "output_type": "execute_result"
    }
   ],
   "source": [
    "isimler[1]"
   ]
  },
  {
   "cell_type": "code",
   "execution_count": 10,
   "id": "4cbf29ac",
   "metadata": {},
   "outputs": [
    {
     "data": {
      "text/plain": [
       "6"
      ]
     },
     "execution_count": 10,
     "metadata": {},
     "output_type": "execute_result"
    }
   ],
   "source": [
    "len(isimler)"
   ]
  },
  {
   "cell_type": "markdown",
   "id": "4a7ea78a",
   "metadata": {},
   "source": [
    "**NOT** İsimler listesi 6 elemanlıdır ve ilk eleman 0. indexten başlar. Listenin elemanları dolaşılabilir"
   ]
  },
  {
   "cell_type": "markdown",
   "id": "5630956a",
   "metadata": {},
   "source": [
    "### Metotlar"
   ]
  },
  {
   "cell_type": "code",
   "execution_count": 58,
   "id": "d6f4707a",
   "metadata": {},
   "outputs": [],
   "source": [
    "sayilar = []"
   ]
  },
  {
   "cell_type": "code",
   "execution_count": 59,
   "id": "be8710dc",
   "metadata": {},
   "outputs": [],
   "source": [
    "sayilar = [0,100,200,250,300]"
   ]
  },
  {
   "cell_type": "code",
   "execution_count": 60,
   "id": "ebee1eed",
   "metadata": {},
   "outputs": [
    {
     "data": {
      "text/plain": [
       "[0, 100, 200, 250, 300]"
      ]
     },
     "execution_count": 60,
     "metadata": {},
     "output_type": "execute_result"
    }
   ],
   "source": [
    "sayilar"
   ]
  },
  {
   "cell_type": "code",
   "execution_count": 28,
   "id": "0329ee3b",
   "metadata": {},
   "outputs": [
    {
     "data": {
      "text/plain": [
       "300"
      ]
     },
     "execution_count": 28,
     "metadata": {},
     "output_type": "execute_result"
    }
   ],
   "source": [
    "max(sayilar) # listenin en yüksek değerini döndürür"
   ]
  },
  {
   "cell_type": "code",
   "execution_count": 61,
   "id": "d834ce69",
   "metadata": {},
   "outputs": [],
   "source": [
    "sayilar.append(400)      # listenin en sonuna 400 değerini ekle"
   ]
  },
  {
   "cell_type": "code",
   "execution_count": 62,
   "id": "66bec6fc",
   "metadata": {},
   "outputs": [],
   "source": [
    "sayilar.remove(250)      # 250 değerini sil"
   ]
  },
  {
   "cell_type": "code",
   "execution_count": 63,
   "id": "9f230d29",
   "metadata": {},
   "outputs": [],
   "source": [
    "sayilar.insert(1,50)     # 1 numaralı index'e 50 sayısını yerleştir ve tüm listeyi kaydır"
   ]
  },
  {
   "cell_type": "code",
   "execution_count": 66,
   "id": "181f2a1b",
   "metadata": {},
   "outputs": [],
   "source": [
    "numbers = sayilar.copy() # copy metotu sayilar listesini kopyalayarak yeni bir liste oluşturur."
   ]
  },
  {
   "cell_type": "markdown",
   "id": "c9a1a649",
   "metadata": {},
   "source": [
    "**NOT** numbers = sayilar ile numbers = sayilar.copy() birbirinden farklı"
   ]
  },
  {
   "cell_type": "markdown",
   "id": "d0ae83f3",
   "metadata": {},
   "source": [
    "## Tuple\n",
    "**Tuple** bir kere tanımlanır ve bir daha değiştirilemez"
   ]
  },
  {
   "cell_type": "code",
   "execution_count": 69,
   "id": "f1b10cd3",
   "metadata": {},
   "outputs": [],
   "source": [
    "isim = (\"Ömer\", \"Faruk\",\"Aydın\")"
   ]
  },
  {
   "cell_type": "code",
   "execution_count": 70,
   "id": "3e4a4b6c",
   "metadata": {},
   "outputs": [
    {
     "data": {
      "text/plain": [
       "3"
      ]
     },
     "execution_count": 70,
     "metadata": {},
     "output_type": "execute_result"
    }
   ],
   "source": [
    "len(isim)"
   ]
  },
  {
   "cell_type": "code",
   "execution_count": 71,
   "id": "075f5df9",
   "metadata": {},
   "outputs": [
    {
     "data": {
      "text/plain": [
       "tuple"
      ]
     },
     "execution_count": 71,
     "metadata": {},
     "output_type": "execute_result"
    }
   ],
   "source": [
    "type(isim)"
   ]
  },
  {
   "cell_type": "code",
   "execution_count": 77,
   "id": "2e8af7b9",
   "metadata": {},
   "outputs": [
    {
     "name": "stdout",
     "output_type": "stream",
     "text": [
      "Ömer\n",
      "Faruk\n",
      "Aydın\n"
     ]
    }
   ],
   "source": [
    "for i in isim:\n",
    "    print(i)"
   ]
  },
  {
   "cell_type": "markdown",
   "id": "48301240",
   "metadata": {},
   "source": [
    "## Sets\n",
    "**Küme**, yani sets, elemanları sırasızdır ve yinelenemezler. Elemanlar güncellenebilir; silinebilir ve ekleme yapılabilir. Elemanlar sırasız olduğu için indexleme yapılamaz."
   ]
  },
  {
   "cell_type": "code",
   "execution_count": 78,
   "id": "847936c4",
   "metadata": {},
   "outputs": [],
   "source": [
    "meyveler = {\"muz\", \"elma\", \"çilek\"}"
   ]
  },
  {
   "cell_type": "code",
   "execution_count": 79,
   "id": "ec8fa284",
   "metadata": {},
   "outputs": [
    {
     "data": {
      "text/plain": [
       "set"
      ]
     },
     "execution_count": 79,
     "metadata": {},
     "output_type": "execute_result"
    }
   ],
   "source": [
    "type(meyveler)"
   ]
  },
  {
   "cell_type": "code",
   "execution_count": 80,
   "id": "edb49a56",
   "metadata": {},
   "outputs": [],
   "source": [
    "meyveler.add(\"portakal\")"
   ]
  },
  {
   "cell_type": "code",
   "execution_count": 81,
   "id": "0e891fc7",
   "metadata": {},
   "outputs": [
    {
     "data": {
      "text/plain": [
       "{'elma', 'muz', 'portakal', 'çilek'}"
      ]
     },
     "execution_count": 81,
     "metadata": {},
     "output_type": "execute_result"
    }
   ],
   "source": [
    "meyveler"
   ]
  },
  {
   "cell_type": "markdown",
   "id": "66e6c30f",
   "metadata": {},
   "source": [
    "## Sözlük\n",
    "Sözlükler, yani *dictionary*, bir key ve onun value'larından oluşur.\n",
    "\n",
    "key = value1,value2,value3 "
   ]
  },
  {
   "cell_type": "code",
   "execution_count": 51,
   "id": "0a00f021",
   "metadata": {},
   "outputs": [],
   "source": [
    "plakalar = {'istanbul' : 34, 'Ankara' : 6, 'Trabzon': 61}"
   ]
  },
  {
   "cell_type": "code",
   "execution_count": 53,
   "id": "b13c4548",
   "metadata": {},
   "outputs": [
    {
     "data": {
      "text/plain": [
       "{'istanbul': 34, 'Ankara': 6, 'Trabzon': 61}"
      ]
     },
     "execution_count": 53,
     "metadata": {},
     "output_type": "execute_result"
    }
   ],
   "source": [
    "plakalar"
   ]
  },
  {
   "cell_type": "markdown",
   "id": "5de78e1c",
   "metadata": {},
   "source": [
    "**Not** sözlükler pratik gerektiren bir veri yapısıdır. İleriki zamanlarda içerik güncellenecektir. Derslerde bu konunun üzerine değinelecektir"
   ]
  },
  {
   "cell_type": "code",
   "execution_count": null,
   "id": "a7f7559c",
   "metadata": {},
   "outputs": [],
   "source": []
  }
 ],
 "metadata": {
  "kernelspec": {
   "display_name": "Python 3 (ipykernel)",
   "language": "python",
   "name": "python3"
  },
  "language_info": {
   "codemirror_mode": {
    "name": "ipython",
    "version": 3
   },
   "file_extension": ".py",
   "mimetype": "text/x-python",
   "name": "python",
   "nbconvert_exporter": "python",
   "pygments_lexer": "ipython3",
   "version": "3.10.9"
  }
 },
 "nbformat": 4,
 "nbformat_minor": 5
}
