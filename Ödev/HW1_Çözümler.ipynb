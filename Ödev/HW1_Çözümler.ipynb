{
  "nbformat": 4,
  "nbformat_minor": 0,
  "metadata": {
    "colab": {
      "provenance": []
    },
    "kernelspec": {
      "name": "python3",
      "display_name": "Python 3"
    },
    "language_info": {
      "name": "python"
    }
  },
  "cells": [
    {
      "cell_type": "markdown",
      "source": [
        "# Programlama Ödevi - Python Objeleri ve Veri Yapıları\n",
        "\n",
        "### Problem 1\n",
        "Kullanıcıdan 3 tane sayı alarak bunların çarpımını ekrana **format** metodu ile yazdırın.\n",
        "\n",
        "### Problem 2\n",
        "Kullanıcıdan boy ve kilo bilgilerini alın ve bu değerlere göre beden kitle indeksini hesaplayın.\n",
        "\n",
        "*Beden Kitle İndeksi: kilo / boy (m) * boy (m)*\n",
        "\n",
        "### Problem 3\n",
        "Kullanıcıdan alacağınız iki sayıyı birbirleriyle değiştirin ve ekranda gösterin.\n",
        "Örnek a = 5, b = 3 ise a = 3, b = 5 olacak.\n",
        "\n",
        "### Problem 4\n",
        "Kullanıcıdan bir dik üçgenin iki kenarını alın ve hipotenüs uzunluğunu hesaplayın.\n",
        "\n",
        "Hipotenüs Formülü: a^2 + b^2 = c^2\n",
        "\n",
        "*Bir sayının karesini ve kökünü nasıl alacağınızı araştırıp öğreniniz.*"
      ],
      "metadata": {
        "id": "3z57q7KGzm1I"
      }
    },
    {
      "cell_type": "markdown",
      "source": [
        "#Problem 1'in Çözümü"
      ],
      "metadata": {
        "id": "-4WJODv8zqvO"
      }
    },
    {
      "cell_type": "code",
      "execution_count": null,
      "metadata": {
        "colab": {
          "base_uri": "https://localhost:8080/"
        },
        "id": "VuMA_VrFzjir",
        "outputId": "91198586-217d-497d-9193-e1ccc6b2b43b"
      },
      "outputs": [
        {
          "name": "stdout",
          "output_type": "stream",
          "text": [
            "Birinci sayi: 2\n",
            "İkinci sayi: 5\n",
            "Üçüncü sayi: 6\n"
          ]
        }
      ],
      "source": [
        "a = int(input(\"Birinci sayi: \"))\n",
        "b = int(input(\"İkinci sayi: \"))\n",
        "c = int(input(\"Üçüncü sayi: \"))"
      ]
    },
    {
      "cell_type": "code",
      "source": [
        "carpim = a*b*c\n",
        "print(\"Bu üç sayinin carpimi = {}\".format(carpim))"
      ],
      "metadata": {
        "colab": {
          "base_uri": "https://localhost:8080/"
        },
        "id": "WkY5twnbztN2",
        "outputId": "bee49c34-90e6-4c23-87c0-138a551242a7"
      },
      "execution_count": null,
      "outputs": [
        {
          "output_type": "stream",
          "name": "stdout",
          "text": [
            "Bu üç sayinin carpimi = 60\n"
          ]
        }
      ]
    },
    {
      "cell_type": "code",
      "source": [
        "# Ek çözüm:\n",
        "\n",
        "print(\"Bu üç sayinin carpimi = {}\".format(a*b*c))"
      ],
      "metadata": {
        "colab": {
          "base_uri": "https://localhost:8080/"
        },
        "id": "LNZ1SpFr6WvG",
        "outputId": "8e2a663c-7f4b-483d-8720-bf13e2fa5a99"
      },
      "execution_count": null,
      "outputs": [
        {
          "output_type": "stream",
          "name": "stdout",
          "text": [
            "Bu üç sayinin carpimi = 60\n"
          ]
        }
      ]
    },
    {
      "cell_type": "markdown",
      "source": [
        "#Problem 2'nin Çözümü"
      ],
      "metadata": {
        "id": "e-RGOUg4z3pJ"
      }
    },
    {
      "cell_type": "code",
      "source": [
        "boyCm = float(input(\"Boyunuzu metre cinsinden giriniz: \"))\n",
        "kilo = float(input(\"Kilonuzu kg cinsinden giriniz: \"))"
      ],
      "metadata": {
        "colab": {
          "base_uri": "https://localhost:8080/"
        },
        "id": "dT0Hgcs7z1Bc",
        "outputId": "f8623584-09d9-4a51-ee35-e8d662c43097"
      },
      "execution_count": null,
      "outputs": [
        {
          "name": "stdout",
          "output_type": "stream",
          "text": [
            "Boyunuzu metre cinsinden giriniz: 170\n",
            "Kilonuzu kg cinsinden giriniz: 50\n"
          ]
        }
      ]
    },
    {
      "cell_type": "code",
      "source": [
        "boyM = boyCm/100\n",
        "bki = (kilo/(boyM*boyM))\n",
        "bki = \"{:.2f}\".format(bki)\n",
        "bki = float(bki)\n",
        "print(bki)"
      ],
      "metadata": {
        "colab": {
          "base_uri": "https://localhost:8080/"
        },
        "id": "z_bn0FjEz6ED",
        "outputId": "90abcbbc-6d5a-4a0c-e8de-6e06434e3703"
      },
      "execution_count": null,
      "outputs": [
        {
          "output_type": "stream",
          "name": "stdout",
          "text": [
            "17.3\n"
          ]
        }
      ]
    },
    {
      "cell_type": "code",
      "source": [
        "if bki<18.5:\n",
        "  print(\"Beden kitle endeksiniz: {}\\nDurum: Zayıf\".format(bki))\n",
        "elif bki>18.5 and bki<24.9:\n",
        "  print(\"Beden kitle endeksiniz: {}\\nDurum: Normal\".format(bki))\n",
        "elif bki>25 and bki<29.9:\n",
        "  print(\"Beden kitle endeksiniz: {}\\nDurum: Fazla kilolu\".format(bki))\n",
        "elif bki>30 and bki<34.9:\n",
        "  print(\"Beden kitle endeksiniz: {}\\nDurum: Obez\".format(bki))\n",
        "elif bki>35 and bki<39.9:\n",
        "  print(\"Beden kitle endeksiniz: {}\\nDurum: İleri obez\".format(bki))\n",
        "else:\n",
        "  print(\"Beden kitle endeksiniz: {}\\nDurum: Morbid obez\".format(bki))"
      ],
      "metadata": {
        "colab": {
          "base_uri": "https://localhost:8080/"
        },
        "id": "JHY8G38Zz96p",
        "outputId": "6c492ef5-b8ce-48c7-bd4d-fd6d460a0f6a"
      },
      "execution_count": null,
      "outputs": [
        {
          "output_type": "stream",
          "name": "stdout",
          "text": [
            "Beden kitle endeksiniz: 17.3\n",
            "Durum: Zayıf\n"
          ]
        }
      ]
    },
    {
      "cell_type": "markdown",
      "source": [
        "#Problem 3'ün Çözümü"
      ],
      "metadata": {
        "id": "KCnqlcum0COd"
      }
    },
    {
      "cell_type": "code",
      "source": [
        "a = int(input(\"a sayisini girin: \"))\n",
        "b = int(input(\"b sayisini girin: \"))"
      ],
      "metadata": {
        "colab": {
          "base_uri": "https://localhost:8080/"
        },
        "id": "l2zwKd7b0AGk",
        "outputId": "d0ecd76f-b9a1-4e45-ae91-7d8e3304196a"
      },
      "execution_count": null,
      "outputs": [
        {
          "name": "stdout",
          "output_type": "stream",
          "text": [
            "a sayisini girin: 3\n",
            "b sayisini girin: 8\n"
          ]
        }
      ]
    },
    {
      "cell_type": "code",
      "source": [
        "temp = a\n",
        "a = b\n",
        "b = temp\n",
        "\n",
        "print(\"\"\"Sayilarin birbirleriyle degistirilmis hali:\n",
        "a = {}\n",
        "b = {}\"\"\".format(a,b))"
      ],
      "metadata": {
        "colab": {
          "base_uri": "https://localhost:8080/"
        },
        "id": "jDZIvROn0FL2",
        "outputId": "ecb8584e-bc32-4d04-bb90-529321373194"
      },
      "execution_count": null,
      "outputs": [
        {
          "output_type": "stream",
          "name": "stdout",
          "text": [
            "Sayilarin birbirleriyle degistirilmis hali:\n",
            "a = 8\n",
            "b = 3\n"
          ]
        }
      ]
    },
    {
      "cell_type": "markdown",
      "source": [
        "#Problem 4'ün Çözümü"
      ],
      "metadata": {
        "id": "CJyQjmuN0PF1"
      }
    },
    {
      "cell_type": "code",
      "source": [
        "import math as m"
      ],
      "metadata": {
        "id": "_y06FgN50K_c"
      },
      "execution_count": null,
      "outputs": []
    },
    {
      "cell_type": "code",
      "source": [
        "a = int(input(\"Dik ucgenin birinci dik kenari: \"))\n",
        "b = int(input(\"Dik ucgenin ikinci dik kenari: \"))"
      ],
      "metadata": {
        "colab": {
          "base_uri": "https://localhost:8080/"
        },
        "id": "5sDMx4Yv0VJb",
        "outputId": "91743ff4-9676-458d-81f3-dde4017146eb"
      },
      "execution_count": null,
      "outputs": [
        {
          "name": "stdout",
          "output_type": "stream",
          "text": [
            "Dik ucgenin birinci dik kenari: 2\n",
            "Dik ucgenin ikinci dik kenari: 3\n"
          ]
        }
      ]
    },
    {
      "cell_type": "code",
      "source": [
        "hipo = m.sqrt(pow(a,2)+pow(b,2))\n",
        "hipoKare = pow(a,2)+pow(b,2)\n",
        "print(\"Hipotenus uzunlugu:\", hipo)\n",
        "print(\"Yani kök\", hipoKare)"
      ],
      "metadata": {
        "colab": {
          "base_uri": "https://localhost:8080/"
        },
        "id": "EX_Eps3k0W6J",
        "outputId": "775d2615-305d-4ba9-9886-d825e82891a6"
      },
      "execution_count": null,
      "outputs": [
        {
          "output_type": "stream",
          "name": "stdout",
          "text": [
            "Hipotenus uzunlugu: 3.605551275463989\n",
            "Yani kök 13\n"
          ]
        }
      ]
    },
    {
      "cell_type": "markdown",
      "source": [
        "#Problem 4'ün Çözümü 2 (Modül ile)"
      ],
      "metadata": {
        "id": "jpGptsRR2kfy"
      }
    },
    {
      "cell_type": "code",
      "source": [
        "import math"
      ],
      "metadata": {
        "id": "sDFzT8Lo2jhJ"
      },
      "execution_count": null,
      "outputs": []
    },
    {
      "cell_type": "code",
      "source": [
        "a = int(input(\"Dik ucgenin birinci dik kenari: \"))\n",
        "b = int(input(\"Dik ucgenin ikinci dik kenari: \"))"
      ],
      "metadata": {
        "colab": {
          "base_uri": "https://localhost:8080/"
        },
        "id": "dx6nbVAh2qIE",
        "outputId": "580d3010-441e-4842-a09a-3560524d3465"
      },
      "execution_count": null,
      "outputs": [
        {
          "name": "stdout",
          "output_type": "stream",
          "text": [
            "Dik ucgenin birinci dik kenari: 7\n",
            "Dik ucgenin ikinci dik kenari: 24\n"
          ]
        }
      ]
    },
    {
      "cell_type": "code",
      "source": [
        "hipotenüs = math.hypot(a, b)\n",
        "print(\"Hipotenus uzunlugu:\", hipotenüs)"
      ],
      "metadata": {
        "colab": {
          "base_uri": "https://localhost:8080/"
        },
        "id": "MczvicC52tZa",
        "outputId": "088ee29f-312f-44f8-ded4-9aa410a416ae"
      },
      "execution_count": null,
      "outputs": [
        {
          "output_type": "stream",
          "name": "stdout",
          "text": [
            "Hipotenus uzunlugu: 25.0\n"
          ]
        }
      ]
    }
  ]
}