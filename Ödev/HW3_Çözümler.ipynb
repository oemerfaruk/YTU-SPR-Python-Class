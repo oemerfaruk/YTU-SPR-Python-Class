{
  "cells": [
    {
      "cell_type": "markdown",
      "id": "591d72a5",
      "metadata": {
        "id": "591d72a5"
      },
      "source": [
        "# Programlama Ödevi - Döngüler\n",
        "\n",
        "\n",
        "### Problem 1\n",
        "Kullanıcıdan aldığınız sayının mükemmel olup olmadığını bulan programı yazın.\n",
        "\n",
        "Mükemmel sayı nedir, kendisi hariç bölenlerinin toplamı kendisine eşitse bu mükemmel sayıdır. Örnek 6 --> 1 + 2 + 3 = 6\n",
        "\n",
        "### Problem 2\n",
        "Kullanıcıdan aldığınız sayının \"armstrong\" sayısı olup olmadığını bulan programı yazın.\n",
        "\n",
        "Armstrong sayısı: 3 basamaklı sayılar için ---> Basamaklarının küpleri toplamı kendisine eşit olan sayılara Armstrong sayı denir.\n",
        "\n",
        "Örnek: 407 için = (4x4x4)+(7x7x7)=407 Bu yüzden 407 armstrong bir sayıdır.\n",
        "### Problem 3\n",
        "İç içe for döngüsü kullanarak 1'den 10'a kadar olan sayıların çarpım tablosunu ekrana yazdırın.\n",
        "\n",
        "### Problem 4\n",
        "Her bir while döngüsünde kullanıcıdan bir sayı alın ve kullanıcının girdiği sayıları \"toplam\" isimli bir değişkene ekleyin. Kullanıcı \"q\" tuşuna bastığı zaman döngüyü sonlandırın ve ekrana \"toplam\" değişkenini bastırın.\n",
        "\n",
        "*İpucu: while döngüsünü sonsuz koşulla başlatın ve kullanıcı q'ya basarsa döngüyü break ile sonlandırın.*\n",
        "\n",
        "### Problem 5\n",
        "1'den 100'e kadar olan sayılardan sadece 3'e bölünen sayıları ekrana bastırın. Bu işlemi *continue* ile yapmaya çalışın.\n",
        "\n",
        "Problem 4 ve problem 5 Mustafa Murat Coşkun'un ders notlarından alındı."
      ]
    },
    {
      "cell_type": "markdown",
      "source": [
        "#Problem 1'in Çözümü"
      ],
      "metadata": {
        "id": "7sCOpLcg-l9d"
      },
      "id": "7sCOpLcg-l9d"
    },
    {
      "cell_type": "code",
      "source": [
        "sayı = int(input(\"Sayi: \"))\n",
        "\n",
        "i = 1\n",
        "toplam = 0\n",
        "while (i < sayı):\n",
        "    if (sayı % i == 0):\n",
        "        toplam += i\n",
        "    i += 1\n",
        "\n",
        "if (toplam == sayı):\n",
        "    print(sayı,\"mukemmel bir sayidir.\")\n",
        "else:\n",
        "    print(sayı,\"mukemmel bir sayi degildir.\")"
      ],
      "metadata": {
        "colab": {
          "base_uri": "https://localhost:8080/"
        },
        "id": "n_ch1s9d-o1c",
        "outputId": "6935b0e4-3d21-4479-8565-40ed59a07ff8"
      },
      "id": "n_ch1s9d-o1c",
      "execution_count": null,
      "outputs": [
        {
          "output_type": "stream",
          "name": "stdout",
          "text": [
            "Sayi: 5\n",
            "5 mukemmel bir sayi degildir.\n"
          ]
        }
      ]
    },
    {
      "cell_type": "markdown",
      "source": [
        "#Problem 2'nin Çözümü"
      ],
      "metadata": {
        "id": "iyE4Pbpp-yte"
      },
      "id": "iyE4Pbpp-yte"
    },
    {
      "cell_type": "code",
      "execution_count": null,
      "id": "994351cc",
      "metadata": {
        "id": "994351cc",
        "colab": {
          "base_uri": "https://localhost:8080/"
        },
        "outputId": "109c0529-993a-4cb8-9103-6206a1dcd874"
      },
      "outputs": [
        {
          "name": "stdout",
          "output_type": "stream",
          "text": [
            "Sayi:407\n"
          ]
        }
      ],
      "source": [
        "sayi = input(\"Sayi:\")"
      ]
    },
    {
      "cell_type": "code",
      "source": [
        "basamak_sayisi = len(sayi)\n",
        "sayi = int(sayi)\n",
        "basamak = 0\n",
        "toplam = 0\n",
        "\n",
        "temp = sayi\n",
        "\n",
        "while (temp > 0):\n",
        "\n",
        "  basamak = temp % 10\n",
        "\n",
        "  toplam += basamak ** basamak_sayisi\n",
        "\n",
        "  temp //= 10\n",
        "\n",
        "if (toplam == sayi):\n",
        "  print(sayi, \"bir armstrong sayidir.\")\n",
        "\n",
        "else:\n",
        "  print(sayi, \"bir armstrong sayi degildir.\")\n"
      ],
      "metadata": {
        "colab": {
          "base_uri": "https://localhost:8080/"
        },
        "id": "OgWtP-RkBKj6",
        "outputId": "4854f960-db1b-4950-bad5-559c66b29d66"
      },
      "id": "OgWtP-RkBKj6",
      "execution_count": null,
      "outputs": [
        {
          "output_type": "stream",
          "name": "stdout",
          "text": [
            "407 bir armstrong sayidir.\n"
          ]
        }
      ]
    },
    {
      "cell_type": "markdown",
      "source": [
        "#Problem 3'ün Çözümü"
      ],
      "metadata": {
        "id": "xS5a8ynU-zi6"
      },
      "id": "xS5a8ynU-zi6"
    },
    {
      "cell_type": "code",
      "source": [
        "for i in range(1,11):\n",
        "  print(\"*****************************************\")\n",
        "\n",
        "  for j in range(1,11):\n",
        "\n",
        "    print(\"{} X {} = {}\".format(i,j,i*j))"
      ],
      "metadata": {
        "colab": {
          "base_uri": "https://localhost:8080/"
        },
        "id": "KU9YuUj9B5qP",
        "outputId": "c7f16c12-fe8b-4f7e-90ad-c8087c75bb9c"
      },
      "id": "KU9YuUj9B5qP",
      "execution_count": null,
      "outputs": [
        {
          "output_type": "stream",
          "name": "stdout",
          "text": [
            "*****************************************\n",
            "1 X 1 = 1\n",
            "1 X 2 = 2\n",
            "1 X 3 = 3\n",
            "1 X 4 = 4\n",
            "1 X 5 = 5\n",
            "1 X 6 = 6\n",
            "1 X 7 = 7\n",
            "1 X 8 = 8\n",
            "1 X 9 = 9\n",
            "1 X 10 = 10\n",
            "*****************************************\n",
            "2 X 1 = 2\n",
            "2 X 2 = 4\n",
            "2 X 3 = 6\n",
            "2 X 4 = 8\n",
            "2 X 5 = 10\n",
            "2 X 6 = 12\n",
            "2 X 7 = 14\n",
            "2 X 8 = 16\n",
            "2 X 9 = 18\n",
            "2 X 10 = 20\n",
            "*****************************************\n",
            "3 X 1 = 3\n",
            "3 X 2 = 6\n",
            "3 X 3 = 9\n",
            "3 X 4 = 12\n",
            "3 X 5 = 15\n",
            "3 X 6 = 18\n",
            "3 X 7 = 21\n",
            "3 X 8 = 24\n",
            "3 X 9 = 27\n",
            "3 X 10 = 30\n",
            "*****************************************\n",
            "4 X 1 = 4\n",
            "4 X 2 = 8\n",
            "4 X 3 = 12\n",
            "4 X 4 = 16\n",
            "4 X 5 = 20\n",
            "4 X 6 = 24\n",
            "4 X 7 = 28\n",
            "4 X 8 = 32\n",
            "4 X 9 = 36\n",
            "4 X 10 = 40\n",
            "*****************************************\n",
            "5 X 1 = 5\n",
            "5 X 2 = 10\n",
            "5 X 3 = 15\n",
            "5 X 4 = 20\n",
            "5 X 5 = 25\n",
            "5 X 6 = 30\n",
            "5 X 7 = 35\n",
            "5 X 8 = 40\n",
            "5 X 9 = 45\n",
            "5 X 10 = 50\n",
            "*****************************************\n",
            "6 X 1 = 6\n",
            "6 X 2 = 12\n",
            "6 X 3 = 18\n",
            "6 X 4 = 24\n",
            "6 X 5 = 30\n",
            "6 X 6 = 36\n",
            "6 X 7 = 42\n",
            "6 X 8 = 48\n",
            "6 X 9 = 54\n",
            "6 X 10 = 60\n",
            "*****************************************\n",
            "7 X 1 = 7\n",
            "7 X 2 = 14\n",
            "7 X 3 = 21\n",
            "7 X 4 = 28\n",
            "7 X 5 = 35\n",
            "7 X 6 = 42\n",
            "7 X 7 = 49\n",
            "7 X 8 = 56\n",
            "7 X 9 = 63\n",
            "7 X 10 = 70\n",
            "*****************************************\n",
            "8 X 1 = 8\n",
            "8 X 2 = 16\n",
            "8 X 3 = 24\n",
            "8 X 4 = 32\n",
            "8 X 5 = 40\n",
            "8 X 6 = 48\n",
            "8 X 7 = 56\n",
            "8 X 8 = 64\n",
            "8 X 9 = 72\n",
            "8 X 10 = 80\n",
            "*****************************************\n",
            "9 X 1 = 9\n",
            "9 X 2 = 18\n",
            "9 X 3 = 27\n",
            "9 X 4 = 36\n",
            "9 X 5 = 45\n",
            "9 X 6 = 54\n",
            "9 X 7 = 63\n",
            "9 X 8 = 72\n",
            "9 X 9 = 81\n",
            "9 X 10 = 90\n",
            "*****************************************\n",
            "10 X 1 = 10\n",
            "10 X 2 = 20\n",
            "10 X 3 = 30\n",
            "10 X 4 = 40\n",
            "10 X 5 = 50\n",
            "10 X 6 = 60\n",
            "10 X 7 = 70\n",
            "10 X 8 = 80\n",
            "10 X 9 = 90\n",
            "10 X 10 = 100\n"
          ]
        }
      ]
    },
    {
      "cell_type": "markdown",
      "source": [
        "#Problem 4'ün Çözümü"
      ],
      "metadata": {
        "id": "VecMcpna-zn6"
      },
      "id": "VecMcpna-zn6"
    },
    {
      "cell_type": "code",
      "source": [
        "toplam = 0\n",
        "\n",
        "while True:\n",
        "\n",
        "  sayi = input(\"Sayi:\")\n",
        "\n",
        "  if (sayi == \"q\"):\n",
        "    break\n",
        "\n",
        "  toplam += int(sayi)\n",
        "\n",
        "print(\"Girdiginiz sayilarin toplami:\", toplam)"
      ],
      "metadata": {
        "colab": {
          "base_uri": "https://localhost:8080/"
        },
        "id": "XKvQ6OoyEB5T",
        "outputId": "c88120f9-9d3e-462f-e105-99fa31424538"
      },
      "id": "XKvQ6OoyEB5T",
      "execution_count": null,
      "outputs": [
        {
          "output_type": "stream",
          "name": "stdout",
          "text": [
            "Sayi:2\n",
            "Sayi:5\n",
            "Sayi:6\n",
            "Sayi:q\n",
            "Girdiginiz sayilarin toplami: 13\n"
          ]
        }
      ]
    },
    {
      "cell_type": "markdown",
      "source": [
        "#Problem 5'in Çözümü"
      ],
      "metadata": {
        "id": "Mo1MRLtH-0Jh"
      },
      "id": "Mo1MRLtH-0Jh"
    },
    {
      "cell_type": "code",
      "source": [
        "for i in range(1,101):\n",
        "\n",
        "    if (i % 3 != 0):\n",
        "        continue\n",
        "    print(i)"
      ],
      "metadata": {
        "id": "kjOmwdtkFi2S",
        "colab": {
          "base_uri": "https://localhost:8080/"
        },
        "outputId": "4954898d-dbfe-48e2-93ba-435b216efe6b"
      },
      "id": "kjOmwdtkFi2S",
      "execution_count": null,
      "outputs": [
        {
          "output_type": "stream",
          "name": "stdout",
          "text": [
            "3\n",
            "6\n",
            "9\n",
            "12\n",
            "15\n",
            "18\n",
            "21\n",
            "24\n",
            "27\n",
            "30\n",
            "33\n",
            "36\n",
            "39\n",
            "42\n",
            "45\n",
            "48\n",
            "51\n",
            "54\n",
            "57\n",
            "60\n",
            "63\n",
            "66\n",
            "69\n",
            "72\n",
            "75\n",
            "78\n",
            "81\n",
            "84\n",
            "87\n",
            "90\n",
            "93\n",
            "96\n",
            "99\n"
          ]
        }
      ]
    }
  ],
  "metadata": {
    "kernelspec": {
      "display_name": "Python 3 (ipykernel)",
      "language": "python",
      "name": "python3"
    },
    "language_info": {
      "codemirror_mode": {
        "name": "ipython",
        "version": 3
      },
      "file_extension": ".py",
      "mimetype": "text/x-python",
      "name": "python",
      "nbconvert_exporter": "python",
      "pygments_lexer": "ipython3",
      "version": "3.11.4"
    },
    "colab": {
      "provenance": []
    }
  },
  "nbformat": 4,
  "nbformat_minor": 5
}