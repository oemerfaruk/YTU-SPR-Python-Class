{
 "cells": [
  {
   "cell_type": "markdown",
   "id": "d106ac77",
   "metadata": {},
   "source": [
    "# Programlama Ödevi - Koşullu Durumlar\n",
    "\n",
    "### Problem 1\n",
    "Kullanıcıdan aldığınız boy ve kilo bilgileriyle benden kitle indeksini hesaplayın ve ekrana şu kurallara göre bilgiyi yazdırın\n",
    "\n",
    "Beden Kitle İndeksi: Kilo / Boy(m) *  Boy(m)\n",
    "\n",
    "BKİ 18.5'un altındaysa -------> Zayıf\n",
    "\n",
    "BKİ 18.5 ile 25 arasındaysa ------> Normal\n",
    "\n",
    "BKİ 25 ile 30 arasındaysa --------> Fazla Kilolu\n",
    "\n",
    "BKİ 30'un üstündeyse -------------> Obez\n",
    "\n",
    "### Problem 2\n",
    "Kullanıcıdan 3 tane sayı alın ve en büyük sayıyı ekrana yazdırın.\n",
    "*Ek olarak büyükten küçüğe yazdırmanız pratik olacaktır*\n",
    "\n",
    "### Problem 3\n",
    "Kullanıcının girdiği vize1,vize2,final notlarına notlarına göre harf notunu hesaplayın.\n",
    "\n",
    "    Vize1 toplam notun %30'una etki edecek.\n",
    "\n",
    "    Vize2 toplam notun %30'una etki edecek.\n",
    "\n",
    "    Final toplam notun %40'ına etki edecek.\n",
    "\n",
    "\n",
    "    Toplam Not >=  90 -----> AA\n",
    "\n",
    "    Toplam Not >=  80 -----> BA\n",
    "\n",
    "    Toplam Not >=  70 -----> BB\n",
    "\n",
    "    Toplam Not >=  60 -----> CB\n",
    "\n",
    "    Toplam Not >=  50 -----> CC\n",
    "\n",
    "    Toplam Not >=  40 -----> DC\n",
    "\n",
    "    Toplam Not >=  25 -----> DD\n",
    "\n",
    "    Toplam Not >=  10 -----> FD\n",
    "\n",
    "    Toplam Not <  10 -----> FF\n",
    "    \n",
    "### Problem 4\n",
    "Şimdi de geometrik şekil hesaplama işlemi yapalım. İlk olarak kullanıcıdan üçgenin mi dörtgenin mi tipini bulmak istediğini sorun.\n",
    "\n",
    "Eğer kullanıcı \"Dörtgen\" cevabını verirse , 4 tane kenar isteyip bu dörtgenin kare mi , dikdörtgen mi yoksa sıradan bir dörtgen mi olduğunu bulmaya çalışın.\n",
    "\n",
    "Eğer kullanıcı \"Üçgen\" cevabını verirse , 3 tane kenar isteyip bu üçgenin ikizkenar mı , eşkenar mı yoksa sıradan bir üçgen mi olduğunu bulmaya çalışın. Eğer verilen kenarlar bir üçgen belirtmiyorsa, ekrana \"Üçgen belirtmiyor\" şeklinde bir yazı yazın.o\n",
    "\n",
    "Üçgen belirtme şartını bilmiyorsunuz internetten bakabilirsiniz.\n",
    "\n",
    "Ayrıca , bu problemde mutlak değer bulmaya ihtiyacınız olacak. Bunun için, Pythonda hazır bir fonksiyon olan abs() fonksiyonunu kullanabilirsiniz. Kullanımı şu şekildedir ;"
   ]
  },
  {
   "cell_type": "code",
   "execution_count": 1,
   "id": "36a0aaa1",
   "metadata": {},
   "outputs": [
    {
     "data": {
      "text/plain": [
       "4"
      ]
     },
     "execution_count": 1,
     "metadata": {},
     "output_type": "execute_result"
    }
   ],
   "source": [
    "abs(-4)"
   ]
  },
  {
   "cell_type": "code",
   "execution_count": 2,
   "id": "1acf834a",
   "metadata": {},
   "outputs": [
    {
     "data": {
      "text/plain": [
       "5"
      ]
     },
     "execution_count": 2,
     "metadata": {},
     "output_type": "execute_result"
    }
   ],
   "source": [
    "abs(5)"
   ]
  },
  {
   "cell_type": "markdown",
   "id": "31ea69e9",
   "metadata": {},
   "source": [
    "*Not: Bu problem sizin algoritma kurma becerinizi bir hayli geliştirecektir.*\n",
    "\n",
    "Bu ödevde yararlandığım Mustafa Murat Coşkun'un ders içeriklerinden dolayı teşekkürlerimi iletirim"
   ]
  },
  {
   "cell_type": "code",
   "execution_count": null,
   "id": "e9c93f72",
   "metadata": {},
   "outputs": [],
   "source": []
  }
 ],
 "metadata": {
  "kernelspec": {
   "display_name": "Python 3 (ipykernel)",
   "language": "python",
   "name": "python3"
  },
  "language_info": {
   "codemirror_mode": {
    "name": "ipython",
    "version": 3
   },
   "file_extension": ".py",
   "mimetype": "text/x-python",
   "name": "python",
   "nbconvert_exporter": "python",
   "pygments_lexer": "ipython3",
   "version": "3.11.4"
  }
 },
 "nbformat": 4,
 "nbformat_minor": 5
}
