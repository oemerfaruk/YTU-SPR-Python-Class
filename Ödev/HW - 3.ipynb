{
 "cells": [
  {
   "cell_type": "markdown",
   "id": "591d72a5",
   "metadata": {},
   "source": [
    "# Programlama Ödevi - Dongüler\n",
    "\n",
    "\n",
    "### Problem 1\n",
    "Kullanıcıdan aldığınız sayının mükemmel olup olmadınığını bulan programı yazın.\n",
    "\n",
    "Mükemmek sayı nedir, kendi hariç bölenlerinin toplamı kendisine eşitse bu mükemmel sayıdır. Örnek 6 --> 1 + 2 + 3 = 6\n",
    "\n",
    "### Problem 2\n",
    "Kullanıcıdan aldığınız sayının \"armstrong\" sayısı olup olmadığını bulan programı yazın.\n",
    "\n",
    "Armstrong sayısı: 3 basamaklı sayılar için ---> Basamaklarının küpleri toplamı kendisine eşit olan sayılara Armstrong sayı denir.\n",
    "\n",
    "Örnek: 407 için = (4*4*4)+(7*7*7)=470 Bu yüzden 407 armstrong bir sayıdır.\n",
    "### Problem 3\n",
    "İç içe for döngüsü kullanarak 1'den 10'a kadar olan sayıların çarpım tablosunu ekrana yazdırın.\n",
    "\n",
    "### Problem 4\n",
    "Her bir while döngüsünde kullanıcıdan bir sayı alın ve kullanıcının girdiği sayıları \"toplam\" isimli bir değişkene ekleyin. Kullanıcı \"q\" tuşuna bastığı zaman döngüyü sonlandırın ve ekrana \"toplam değişkenini\" bastırın.\n",
    "\n",
    "*İpucu : while döngüsünü sonsuz koşulla başlatın ve kullanıcı q'ya basarsa döngüyü break ile sonlandırın.*\n",
    "\n",
    "### Problem 5\n",
    "1'den 100'e kadar olan sayılardan sadece 3'e bölünen sayıları ekrana bastırın. Bu işlemi *continue* ile yapmaya çalışın.\n",
    "\n",
    "*!problem 4 ve problem 5 Mustafa Murat Coşkun'un ders notlarından alındı"
   ]
  },
  {
   "cell_type": "code",
   "execution_count": null,
   "id": "994351cc",
   "metadata": {},
   "outputs": [],
   "source": []
  }
 ],
 "metadata": {
  "kernelspec": {
   "display_name": "Python 3 (ipykernel)",
   "language": "python",
   "name": "python3"
  },
  "language_info": {
   "codemirror_mode": {
    "name": "ipython",
    "version": 3
   },
   "file_extension": ".py",
   "mimetype": "text/x-python",
   "name": "python",
   "nbconvert_exporter": "python",
   "pygments_lexer": "ipython3",
   "version": "3.11.4"
  }
 },
 "nbformat": 4,
 "nbformat_minor": 5
}
