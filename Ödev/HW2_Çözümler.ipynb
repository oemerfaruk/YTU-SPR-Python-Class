{
  "cells": [
    {
      "cell_type": "markdown",
      "id": "d106ac77",
      "metadata": {
        "id": "d106ac77"
      },
      "source": [
        "# Programlama Ödevi - Koşullu Durumlar\n",
        "\n",
        "### Problem 1\n",
        "Kullanıcıdan aldığınız boy ve kilo bilgileriyle benden kitle indeksini hesaplayın ve ekrana şu kurallara göre bilgiyi yazdırın\n",
        "\n",
        "Beden Kitle İndeksi: Kilo / Boy(m) *  Boy(m)\n",
        "\n",
        "BKİ 18.5'un altındaysa -------> Zayıf\n",
        "\n",
        "BKİ 18.5 ile 25 arasındaysa ------> Normal\n",
        "\n",
        "BKİ 25 ile 30 arasındaysa --------> Fazla Kilolu\n",
        "\n",
        "BKİ 30'un üstündeyse -------------> Obez\n",
        "\n",
        "### Problem 2\n",
        "Kullanıcıdan 3 tane sayı alın ve en büyük sayıyı ekrana yazdırın.\n",
        "*Ek olarak büyükten küçüğe yazdırmanız pratik olacaktır*\n",
        "\n",
        "### Problem 3\n",
        "Kullanıcının girdiği vize1,vize2,final notlarına notlarına göre harf notunu hesaplayın.\n",
        "\n",
        "    Vize1 toplam notun %30'una etki edecek.\n",
        "\n",
        "    Vize2 toplam notun %30'una etki edecek.\n",
        "\n",
        "    Final toplam notun %40'ına etki edecek.\n",
        "\n",
        "\n",
        "    Toplam Not >=  90 -----> AA\n",
        "\n",
        "    Toplam Not >=  80 -----> BA\n",
        "\n",
        "    Toplam Not >=  70 -----> BB\n",
        "\n",
        "    Toplam Not >=  60 -----> CB\n",
        "\n",
        "    Toplam Not >=  50 -----> CC\n",
        "\n",
        "    Toplam Not >=  40 -----> DC\n",
        "\n",
        "    Toplam Not >=  25 -----> DD\n",
        "\n",
        "    Toplam Not >=  10 -----> FD\n",
        "\n",
        "    Toplam Not <  10 -----> FF\n",
        "    \n",
        "### Problem 4\n",
        "Şimdi de geometrik şekil hesaplama işlemi yapalım. İlk olarak kullanıcıdan üçgenin mi dörtgenin mi tipini bulmak istediğini sorun.\n",
        "\n",
        "Eğer kullanıcı \"Dörtgen\" cevabını verirse , 4 tane kenar isteyip bu dörtgenin kare mi , dikdörtgen mi yoksa sıradan bir dörtgen mi olduğunu bulmaya çalışın.\n",
        "\n",
        "Eğer kullanıcı \"Üçgen\" cevabını verirse , 3 tane kenar isteyip bu üçgenin ikizkenar mı , eşkenar mı yoksa sıradan bir üçgen mi olduğunu bulmaya çalışın. Eğer verilen kenarlar bir üçgen belirtmiyorsa, ekrana \"Üçgen belirtmiyor\" şeklinde bir yazı yazın.o\n",
        "\n",
        "Üçgen belirtme şartını bilmiyorsunuz internetten bakabilirsiniz.\n",
        "\n",
        "Ayrıca , bu problemde mutlak değer bulmaya ihtiyacınız olacak. Bunun için, Pythonda hazır bir fonksiyon olan abs() fonksiyonunu kullanabilirsiniz. Kullanımı şu şekildedir ;"
      ]
    },
    {
      "cell_type": "code",
      "execution_count": null,
      "id": "36a0aaa1",
      "metadata": {
        "id": "36a0aaa1",
        "outputId": "6dd99f24-3c4b-47db-a3e9-5e6939fb06e1"
      },
      "outputs": [
        {
          "data": {
            "text/plain": [
              "4"
            ]
          },
          "execution_count": 1,
          "metadata": {},
          "output_type": "execute_result"
        }
      ],
      "source": [
        "abs(-4)"
      ]
    },
    {
      "cell_type": "code",
      "execution_count": null,
      "id": "1acf834a",
      "metadata": {
        "id": "1acf834a",
        "outputId": "9a9aa686-b826-4105-a4f9-3a0185077d9f"
      },
      "outputs": [
        {
          "data": {
            "text/plain": [
              "5"
            ]
          },
          "execution_count": 2,
          "metadata": {},
          "output_type": "execute_result"
        }
      ],
      "source": [
        "abs(5)"
      ]
    },
    {
      "cell_type": "markdown",
      "id": "31ea69e9",
      "metadata": {
        "id": "31ea69e9"
      },
      "source": [
        "*Not: Bu problem sizin algoritma kurma becerinizi bir hayli geliştirecektir.*\n",
        "\n",
        "Bu ödevde yararlandığım Mustafa Murat Coşkun'un ders içeriklerinden dolayı teşekkürlerimi iletirim"
      ]
    },
    {
      "cell_type": "markdown",
      "source": [
        "#Problem 1'in Çözümü"
      ],
      "metadata": {
        "id": "LruTqYUz7jwQ"
      },
      "id": "LruTqYUz7jwQ"
    },
    {
      "cell_type": "code",
      "source": [
        "boyCm = float(input(\"Boyunuzu metre cinsinden giriniz: \"))\n",
        "kilo = float(input(\"Kilonuzu kg cinsinden giriniz: \"))"
      ],
      "metadata": {
        "colab": {
          "base_uri": "https://localhost:8080/"
        },
        "id": "oPOtNm3N7qcr",
        "outputId": "f0d734f4-079e-423a-8ecb-056d88b75799"
      },
      "id": "oPOtNm3N7qcr",
      "execution_count": null,
      "outputs": [
        {
          "name": "stdout",
          "output_type": "stream",
          "text": [
            "Boyunuzu metre cinsinden giriniz: 170\n",
            "Kilonuzu kg cinsinden giriniz: 60\n"
          ]
        }
      ]
    },
    {
      "cell_type": "code",
      "source": [
        "boyM = boyCm/100\n",
        "bki = (kilo/(boyM*boyM))\n",
        "bki = \"{:.2f}\".format(bki)\n",
        "bki = float(bki)\n",
        "print(bki)"
      ],
      "metadata": {
        "colab": {
          "base_uri": "https://localhost:8080/"
        },
        "id": "_AkE3BPh7r06",
        "outputId": "e6d33e5a-486d-4b41-a8ed-79adbc6e0780"
      },
      "id": "_AkE3BPh7r06",
      "execution_count": null,
      "outputs": [
        {
          "output_type": "stream",
          "name": "stdout",
          "text": [
            "20.76\n"
          ]
        }
      ]
    },
    {
      "cell_type": "code",
      "source": [
        "if bki<18.5:\n",
        "  print(\"Beden kitle endeksiniz: {}\\nDurum: Zayıf\".format(bki))\n",
        "elif bki<25:\n",
        "  print(\"Beden kitle endeksiniz: {}\\nDurum: Normal\".format(bki))\n",
        "elif bki<30:\n",
        "  print(\"Beden kitle endeksiniz: {}\\nDurum: Fazla kilolu\".format(bki))\n",
        "else:\n",
        "  print(\"Beden kitle endeksiniz: {}\\nDurum: Obez\".format(bki))"
      ],
      "metadata": {
        "colab": {
          "base_uri": "https://localhost:8080/"
        },
        "id": "izu6w6Sb76W8",
        "outputId": "eba7e0e8-fc61-4352-9564-ce15f6502839"
      },
      "id": "izu6w6Sb76W8",
      "execution_count": null,
      "outputs": [
        {
          "output_type": "stream",
          "name": "stdout",
          "text": [
            "Beden kitle endeksiniz: 20.76\n",
            "Durum: Normal\n"
          ]
        }
      ]
    },
    {
      "cell_type": "markdown",
      "source": [
        "#Problem 2'nin Çözümü"
      ],
      "metadata": {
        "id": "qdmUgDwN72rZ"
      },
      "id": "qdmUgDwN72rZ"
    },
    {
      "cell_type": "code",
      "execution_count": null,
      "id": "e9c93f72",
      "metadata": {
        "id": "e9c93f72",
        "colab": {
          "base_uri": "https://localhost:8080/"
        },
        "outputId": "e247f059-02ee-40eb-b887-7400ad8e0c85"
      },
      "outputs": [
        {
          "name": "stdout",
          "output_type": "stream",
          "text": [
            "a: 6\n",
            "b: 5\n",
            "c: 6\n"
          ]
        }
      ],
      "source": [
        "a = int(input(\"a: \"))\n",
        "b = int(input(\"b: \"))\n",
        "c = int(input(\"c: \"))"
      ]
    },
    {
      "cell_type": "code",
      "source": [
        "if (a>=b and a>=c):\n",
        "  print(\"En buyuk sayi: \", a)\n",
        "elif (b>=a and b>=c):\n",
        "  print(\"En buyuk sayi: \", b)\n",
        "elif (c>=a and c>=b):\n",
        "  print(\"En buyuk sayi: \", c)"
      ],
      "metadata": {
        "colab": {
          "base_uri": "https://localhost:8080/"
        },
        "id": "Qda-noNI-ps5",
        "outputId": "40df1495-cd24-4b42-ffcc-dc3c6262e9df"
      },
      "id": "Qda-noNI-ps5",
      "execution_count": null,
      "outputs": [
        {
          "output_type": "stream",
          "name": "stdout",
          "text": [
            "En buyuk sayi:  6\n"
          ]
        }
      ]
    },
    {
      "cell_type": "markdown",
      "source": [
        "#Problem 3'ün Çözümü"
      ],
      "metadata": {
        "id": "qdjd0kMP8-cs"
      },
      "id": "qdjd0kMP8-cs"
    },
    {
      "cell_type": "code",
      "source": [
        "vize1 = int(input(\"Vize1: \"))\n",
        "vize2 = int(input(\"Vize2: \"))\n",
        "final = int(input(\"Final: \"))"
      ],
      "metadata": {
        "colab": {
          "base_uri": "https://localhost:8080/"
        },
        "id": "tpdn4gHU_RA4",
        "outputId": "cad86738-4cbc-4a17-decf-3b641e18abfa"
      },
      "id": "tpdn4gHU_RA4",
      "execution_count": null,
      "outputs": [
        {
          "name": "stdout",
          "output_type": "stream",
          "text": [
            "Vize1: 5\n",
            "Vize2: 4\n",
            "Final: 7\n"
          ]
        }
      ]
    },
    {
      "cell_type": "code",
      "source": [
        "genelNot = vize1 * 3/10 + vize2 * 3/10 + final * 4/10\n",
        "\n",
        "if (genelNot >=90):\n",
        "  print(\"AA\")\n",
        "elif (genelNot >=80):\n",
        "  print(\"BA\")\n",
        "elif (genelNot >=70):\n",
        "  print(\"BB\")\n",
        "elif (genelNot >=60):\n",
        "  print(\"CB\")\n",
        "elif (genelNot >=50):\n",
        "  print(\"CC\")\n",
        "elif (genelNot >=40):\n",
        "  print(\"DC\")\n",
        "elif (genelNot >=25):\n",
        "  print(\"DD\")\n",
        "elif (genelNot >=10):\n",
        "  print(\"FD\")\n",
        "else:\n",
        "  print(\"Gecmis olsun! FF\")\n"
      ],
      "metadata": {
        "colab": {
          "base_uri": "https://localhost:8080/"
        },
        "id": "O4uduJiS_j2v",
        "outputId": "76a7b270-ece0-45f1-f6fa-f89e64955a80"
      },
      "id": "O4uduJiS_j2v",
      "execution_count": null,
      "outputs": [
        {
          "output_type": "stream",
          "name": "stdout",
          "text": [
            "Gecmis olsun! FF\n"
          ]
        }
      ]
    },
    {
      "cell_type": "markdown",
      "source": [
        "#Problem 4'ün Çözümü"
      ],
      "metadata": {
        "id": "IuCbWFrR9V8k"
      },
      "id": "IuCbWFrR9V8k"
    },
    {
      "cell_type": "code",
      "source": [
        "şekil =  input(\"Hangi seklin tipini ogrenmek istiyorsunuz? (Dortgen/Ucgen)\")\n",
        "\n",
        "if (şekil == \"Dortgen\"):\n",
        "    print(\"Lutfen kenarlari sirayla giriniz.\")\n",
        "    a = int(input(\"Kenar-1:\"))\n",
        "    b = int(input(\"Kenar-2:\"))\n",
        "    c = int(input(\"Kenar-3:\"))\n",
        "    d = int(input(\"Kenar-4:\"))\n",
        "\n",
        "    if (a == b and a == c and a == d):\n",
        "        print(\"Kare\")\n",
        "    elif (a == c and b == d):\n",
        "        print(\"Dikdortgen\")\n",
        "    else:\n",
        "        print(\"Dortgen\")\n",
        "\n",
        "elif (şekil == \"Ucgen\"):\n",
        "    a = int(input(\"Kenar-1:\"))\n",
        "    b = int(input(\"Kenar-2:\"))\n",
        "    c = int(input(\"Kenar-3:\"))\n",
        "    if ( abs(a+b) > c and abs(a+c) > b and abs(b+c) > a):\n",
        "        if (a == b and a == c ):\n",
        "            print(\"Eskenar Ucgen\")\n",
        "        elif ((a == b and a != c) or (a == c and a != b) or (b == c and b != a)):\n",
        "            print(\"Ikizkenar Ucgen\")\n",
        "        else:\n",
        "            print(\"Cesitkenar Ucgen\")\n",
        "    else:\n",
        "        print(\"Ucgen belirtmiyor.\")\n",
        "\n",
        "else:\n",
        "    print(\"Gecersiz Sekil\")"
      ],
      "metadata": {
        "id": "Ebc8lmT7An76",
        "colab": {
          "base_uri": "https://localhost:8080/"
        },
        "outputId": "ef967a1a-3ae3-432d-8e3a-5a26543cffe7"
      },
      "id": "Ebc8lmT7An76",
      "execution_count": null,
      "outputs": [
        {
          "output_type": "stream",
          "name": "stdout",
          "text": [
            "Hangi seklin tipini ogrenmek istiyorsunuz? (Dortgen/Ucgen)Ucgen\n",
            "Kenar-1:6\n",
            "Kenar-2:6\n",
            "Kenar-3:6\n",
            "Eskenar Ucgen...\n"
          ]
        }
      ]
    }
  ],
  "metadata": {
    "kernelspec": {
      "display_name": "Python 3 (ipykernel)",
      "language": "python",
      "name": "python3"
    },
    "language_info": {
      "codemirror_mode": {
        "name": "ipython",
        "version": 3
      },
      "file_extension": ".py",
      "mimetype": "text/x-python",
      "name": "python",
      "nbconvert_exporter": "python",
      "pygments_lexer": "ipython3",
      "version": "3.11.4"
    },
    "colab": {
      "provenance": []
    }
  },
  "nbformat": 4,
  "nbformat_minor": 5
}