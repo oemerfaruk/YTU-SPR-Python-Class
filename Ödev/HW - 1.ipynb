{
 "cells": [
  {
   "cell_type": "markdown",
   "id": "c0cb17d6",
   "metadata": {},
   "source": [
    "# Programlama Ödevi - Python Objeleri ve Veri Yapıları\n",
    "\n",
    "### Problem 1\n",
    "Kullanıcıdan 3 tane sayı alarak bunların çarpımını ekrana **format** metodu ile yazdırın\n",
    "\n",
    "### Problem 2\n",
    "Kullanıcıdan boy ve kilo bilgilerini alın ve bu değerlere göre beden kitle indeksini hesaplayın.\n",
    "\n",
    "*Beden Kitle İndeksi: kilo / boy (m) * boy (m)*\n",
    "\n",
    "### Problem 3\n",
    "Kullanıcıdan istediğiniz iki sayıyı eşitleyin ve ekranda gösterin.\n",
    "Örnek *a = 5, b = 3* ise *a = 3, b = 5* olacak\n",
    "\n",
    "### Problem 4\n",
    "Kullanıcıdan bir dik üçgenin iki kenarını alın ve hipotenüs uzunluğunu hesaplayın.\n",
    "\n",
    "Hipotenüs Formülü: a^2 + b^2 = c^2\n",
    "\n",
    "*Bir sayının karesini ve kökünü nasıl alacağınızı araştırıp öğreniniz*\n",
    "\n"
   ]
  },
  {
   "cell_type": "code",
   "execution_count": null,
   "id": "a4e3e18d",
   "metadata": {},
   "outputs": [],
   "source": []
  }
 ],
 "metadata": {
  "kernelspec": {
   "display_name": "Python 3 (ipykernel)",
   "language": "python",
   "name": "python3"
  },
  "language_info": {
   "codemirror_mode": {
    "name": "ipython",
    "version": 3
   },
   "file_extension": ".py",
   "mimetype": "text/x-python",
   "name": "python",
   "nbconvert_exporter": "python",
   "pygments_lexer": "ipython3",
   "version": "3.11.4"
  }
 },
 "nbformat": 4,
 "nbformat_minor": 5
}
